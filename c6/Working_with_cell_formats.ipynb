{
 "cells": [
  {
   "cell_type": "code",
   "execution_count": 1,
   "id": "6e8638ef",
   "metadata": {},
   "outputs": [],
   "source": [
    "# Problem : Manipulate the format of cell to enhace the results "
   ]
  },
  {
   "cell_type": "code",
   "execution_count": 7,
   "id": "61de8537",
   "metadata": {},
   "outputs": [],
   "source": [
    "# 1. Import \n",
    "\n",
    "import openpyxl\n",
    "from openpyxl.styles import Font, PatternFill, Border, Side\n",
    "\n",
    "xlsfile = openpyxl.Workbook()"
   ]
  },
  {
   "cell_type": "code",
   "execution_count": 8,
   "id": "4f334aef",
   "metadata": {},
   "outputs": [],
   "source": [
    "# 2. Create data\n",
    "\n",
    "data = [\n",
    "    ('Name', 'Admissions'),\n",
    " ('Gone With the Wind', 225.7),\n",
    " ('Star Wars', 194.4),\n",
    " ('ET: The Extraterrestrial', 161.0),\n",
    " ('The Sound of Music', 156.4),\n",
    "]"
   ]
  },
  {
   "cell_type": "code",
   "execution_count": 9,
   "id": "58be976d",
   "metadata": {},
   "outputs": [],
   "source": [
    "sheet = xlsfile['Sheet']"
   ]
  },
  {
   "cell_type": "code",
   "execution_count": 10,
   "id": "c3749da6",
   "metadata": {},
   "outputs": [],
   "source": [
    "for row in data:\n",
    "    sheet.append(row)"
   ]
  },
  {
   "cell_type": "code",
   "execution_count": 11,
   "id": "c4b19fb8",
   "metadata": {},
   "outputs": [],
   "source": [
    "# 3. Define the colors to use in the spreedsheet \n",
    "\n",
    "BLUE = '0033CC'\n",
    "LIGHT_BLUE = 'E6ECFF'\n",
    "WHITE = 'FFFFFF'"
   ]
  },
  {
   "cell_type": "code",
   "execution_count": 24,
   "id": "da1f7cef",
   "metadata": {},
   "outputs": [],
   "source": [
    "# 4. Define the header in blue background and white font \n",
    "\n",
    "header_font = Font(name=\"Tahoma\", size=10, color=WHITE)\n",
    "header_fill = PatternFill(\"solid\", fgColor=BLUE)"
   ]
  },
  {
   "cell_type": "code",
   "execution_count": 25,
   "id": "39df2d3a",
   "metadata": {},
   "outputs": [],
   "source": [
    "for row in sheet['A1:B1']:\n",
    "    for cell in row:\n",
    "        cell.font = header_font\n",
    "        cell.fill = header_fill"
   ]
  },
  {
   "cell_type": "code",
   "execution_count": 26,
   "id": "4539ffb5",
   "metadata": {},
   "outputs": [],
   "source": [
    "# 5. Define an alternate pattern for the columns and a border on each row after the header\n",
    "\n",
    "white_side = Side(border_style='thin', color=WHITE)\n",
    "blue_side = Side(border_style='thin', color=BLUE)\n",
    "border = Border(bottom=blue_side, left=white_side, right=white_side)\n",
    "\n",
    "for row_index, row in enumerate(sheet['A2:B5']):\n",
    "    for cell in row:\n",
    "        cell.border = border"
   ]
  },
  {
   "cell_type": "code",
   "execution_count": 23,
   "id": "8f4f6b9a",
   "metadata": {},
   "outputs": [],
   "source": [
    "xlsfile.save('movies_format.xlsx')"
   ]
  }
 ],
 "metadata": {
  "kernelspec": {
   "display_name": "Python 3 (ipykernel)",
   "language": "python",
   "name": "python3"
  },
  "language_info": {
   "codemirror_mode": {
    "name": "ipython",
    "version": 3
   },
   "file_extension": ".py",
   "mimetype": "text/x-python",
   "name": "python",
   "nbconvert_exporter": "python",
   "pygments_lexer": "ipython3",
   "version": "3.11.5"
  }
 },
 "nbformat": 4,
 "nbformat_minor": 5
}

{
 "cells": [
  {
   "cell_type": "code",
   "execution_count": 2,
   "id": "831d8a62",
   "metadata": {},
   "outputs": [],
   "source": [
    "# 1 . Import module\n",
    "import openpyxl "
   ]
  },
  {
   "cell_type": "code",
   "execution_count": 7,
   "id": "201e1021",
   "metadata": {},
   "outputs": [
    {
     "data": {
      "text/plain": [
       "['Sheet']"
      ]
     },
     "execution_count": 7,
     "metadata": {},
     "output_type": "execute_result"
    }
   ],
   "source": [
    "# 2. Create a new Excel file and store it in a default sheet called \"sheet\"\n",
    "\n",
    "xlsfile = openpyxl.Workbook()\n",
    "xlsfile.sheetnames"
   ]
  },
  {
   "cell_type": "code",
   "execution_count": 8,
   "id": "5d6c9393",
   "metadata": {},
   "outputs": [],
   "source": [
    "sheet = xlsfile['Sheet']"
   ]
  },
  {
   "cell_type": "code",
   "execution_count": 13,
   "id": "1ee45b82",
   "metadata": {},
   "outputs": [],
   "source": [
    "# 3. Create data that will be added to the sheet \n",
    "\n",
    "data = [\n",
    " (225.7, 'Gone With the Wind', 'Victor Fleming'),\n",
    " (194.4, 'Star Wars', 'George Lucas'),\n",
    " (161.0, 'ET: The Extraterrestrial', 'Steven Spielberg'),\n",
    "    ]"
   ]
  },
  {
   "cell_type": "code",
   "execution_count": 14,
   "id": "42b25d83",
   "metadata": {},
   "outputs": [],
   "source": [
    "# 4 . Add data about the number of attendes \n",
    "\n",
    "for row, (admissions, name, director) in enumerate(data, 1):\n",
    "    sheet['A{}'.format(row)].value = admissions\n",
    "    sheet['B{}'.format(row)].value = name"
   ]
  },
  {
   "cell_type": "code",
   "execution_count": 15,
   "id": "c49c90cc",
   "metadata": {},
   "outputs": [
    {
     "data": {
      "text/plain": [
       "<Worksheet \"Directors\">"
      ]
     },
     "execution_count": 15,
     "metadata": {},
     "output_type": "execute_result"
    }
   ],
   "source": [
    "# 5. Create a new sheet directors \n",
    "\n",
    "sheet = xlsfile.create_sheet('Directors')\n",
    "sheet"
   ]
  },
  {
   "cell_type": "code",
   "execution_count": 16,
   "id": "da4b4297",
   "metadata": {},
   "outputs": [
    {
     "data": {
      "text/plain": [
       "['Sheet', 'Directors']"
      ]
     },
     "execution_count": 16,
     "metadata": {},
     "output_type": "execute_result"
    }
   ],
   "source": [
    "xlsfile.sheetnames"
   ]
  },
  {
   "cell_type": "code",
   "execution_count": 17,
   "id": "9449ac85",
   "metadata": {},
   "outputs": [],
   "source": [
    "# 6. Add the name of the director for each movie \n",
    "\n",
    "for row, (admission, name, director) in enumerate(data,1):\n",
    "    sheet['A{}'.format(row)].value = director\n",
    "    sheet['B{}'.format(row)].value = name"
   ]
  },
  {
   "cell_type": "code",
   "execution_count": 20,
   "id": "86c7bf4c",
   "metadata": {},
   "outputs": [],
   "source": [
    "# 7. Save the file\n",
    "\n",
    "xlsfile.save('movie_sheet.xlsx')"
   ]
  },
  {
   "cell_type": "markdown",
   "id": "efffdbac",
   "metadata": {},
   "source": [
    "#### Extra\n",
    "\n",
    "The name of an existing sheet can be changed with the .title property"
   ]
  },
  {
   "cell_type": "code",
   "execution_count": 19,
   "id": "bdad3aea",
   "metadata": {},
   "outputs": [],
   "source": [
    "sheet = xlsfile[\"Sheet\"]\n",
    "sheet.title = \"Admissions\""
   ]
  }
 ],
 "metadata": {
  "kernelspec": {
   "display_name": "Python 3 (ipykernel)",
   "language": "python",
   "name": "python3"
  },
  "language_info": {
   "codemirror_mode": {
    "name": "ipython",
    "version": 3
   },
   "file_extension": ".py",
   "mimetype": "text/x-python",
   "name": "python",
   "nbconvert_exporter": "python",
   "pygments_lexer": "ipython3",
   "version": "3.11.5"
  }
 },
 "nbformat": 4,
 "nbformat_minor": 5
}

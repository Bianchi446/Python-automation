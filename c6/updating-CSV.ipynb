{
 "cells": [
  {
   "cell_type": "code",
   "execution_count": 1,
   "id": "661c687a",
   "metadata": {},
   "outputs": [],
   "source": [
    "# Problem : Update CSV files by read them, processing them into internal python objects and \n",
    "# overwrite the result in the same format"
   ]
  },
  {
   "cell_type": "code",
   "execution_count": 2,
   "id": "1a449879",
   "metadata": {},
   "outputs": [],
   "source": [
    "# 1. Import the csv module and the file \n",
    "\n",
    "import csv\n",
    "\n",
    "FILE = 'movies.csv'"
   ]
  },
  {
   "cell_type": "code",
   "execution_count": 3,
   "id": "fbbed649",
   "metadata": {},
   "outputs": [],
   "source": [
    "# 2. Read the content of the file using DictReader and transform this content into a list of ordered rows \n",
    "\n",
    "with open(FILE, newline='') as file:\n",
    "    data = [row for row in csv.DictReader(file)]"
   ]
  },
  {
   "cell_type": "code",
   "execution_count": 5,
   "id": "0a00c009",
   "metadata": {},
   "outputs": [
    {
     "data": {
      "text/plain": [
       "[{'Name': 'Gone with the Wind', 'Year': '1977'},\n",
       " {'Name': 'Tenet', 'Year': '2020'},\n",
       " {'Name': 'Oppenheimer', 'Year': '2023'}]"
      ]
     },
     "execution_count": 5,
     "metadata": {},
     "output_type": "execute_result"
    }
   ],
   "source": [
    "# 3. Check the obtained data\n",
    "\n",
    "data"
   ]
  },
  {
   "cell_type": "code",
   "execution_count": 8,
   "id": "140fa1bb",
   "metadata": {},
   "outputs": [],
   "source": [
    "# 4. Modify the desired row \n",
    "\n",
    "data[1]['Year'] = 2024"
   ]
  },
  {
   "cell_type": "code",
   "execution_count": 9,
   "id": "348d904e",
   "metadata": {},
   "outputs": [],
   "source": [
    "# 5. Open the file again and store the values \n",
    "\n",
    "HEADER = data[0].keys()\n",
    "with open(FILE, 'w', newline='') as file:\n",
    "    writer = csv.DictWriter(file, fieldnames=HEADER)\n",
    "    writer.writeheader()\n",
    "    writer.writerows(data)"
   ]
  },
  {
   "cell_type": "markdown",
   "id": "918c0b2a",
   "metadata": {},
   "source": [
    "#### More : \n",
    "For familiar data sources, the dialect of the CSV file is typically known, but this may\n",
    "not always be the case, especially if the file comes from an unknown source. In that\n",
    "case, the Sniffer class can help."
   ]
  },
  {
   "cell_type": "code",
   "execution_count": null,
   "id": "5951e285",
   "metadata": {},
   "outputs": [],
   "source": []
  }
 ],
 "metadata": {
  "kernelspec": {
   "display_name": "Python 3 (ipykernel)",
   "language": "python",
   "name": "python3"
  },
  "language_info": {
   "codemirror_mode": {
    "name": "ipython",
    "version": 3
   },
   "file_extension": ".py",
   "mimetype": "text/x-python",
   "name": "python",
   "nbconvert_exporter": "python",
   "pygments_lexer": "ipython3",
   "version": "3.11.5"
  }
 },
 "nbformat": 4,
 "nbformat_minor": 5
}

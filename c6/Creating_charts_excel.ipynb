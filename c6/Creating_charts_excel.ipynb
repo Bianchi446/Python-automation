{
 "cells": [
  {
   "cell_type": "code",
   "execution_count": 15,
   "id": "3e75bdbb",
   "metadata": {},
   "outputs": [],
   "source": [
    "# 1. import\n",
    "\n",
    "import openpyxl \n",
    "from openpyxl.chart import BarChart, Reference"
   ]
  },
  {
   "cell_type": "code",
   "execution_count": 16,
   "id": "499d20c7",
   "metadata": {},
   "outputs": [],
   "source": [
    "# 2. Create sheet\n",
    "\n",
    "xlsfile = openpyxl.Workbook()"
   ]
  },
  {
   "cell_type": "code",
   "execution_count": 17,
   "id": "1795911b",
   "metadata": {},
   "outputs": [],
   "source": [
    "# 3. Add data \n",
    "\n",
    "data = [\n",
    "    ('Name', 'Admissions'),\n",
    " ('Gone With the Wind', 225.7),\n",
    " ('Star Wars', 194.4),\n",
    " ('ET: The Extraterrestrial', 161.0),\n",
    "]"
   ]
  },
  {
   "cell_type": "code",
   "execution_count": 18,
   "id": "5f972434",
   "metadata": {},
   "outputs": [],
   "source": [
    "sheet = xlsfile['Sheet'] "
   ]
  },
  {
   "cell_type": "code",
   "execution_count": 19,
   "id": "1752f81b",
   "metadata": {},
   "outputs": [],
   "source": [
    "for row in data:\n",
    "    sheet.append(row)"
   ]
  },
  {
   "cell_type": "code",
   "execution_count": 20,
   "id": "1f063b3f",
   "metadata": {},
   "outputs": [],
   "source": [
    "# 4. Create a BarChart object and filled with basic information \n",
    "\n",
    "chart = BarChart()\n",
    "chart.title = \"Admissions per movie\"\n",
    "chart.y_axis.title = \"Millions\""
   ]
  },
  {
   "cell_type": "code",
   "execution_count": 21,
   "id": "1170c33d",
   "metadata": {},
   "outputs": [],
   "source": [
    "# 5. Create a reference to the data and append the data to the chart \n",
    "\n",
    "data = Reference(sheet, min_row = 2, max_row = 4, min_col = 1, max_col = 2)\n",
    "chart.add_data(data, from_rows = True, titles_from_data = True)"
   ]
  },
  {
   "cell_type": "code",
   "execution_count": 22,
   "id": "927123c5",
   "metadata": {},
   "outputs": [],
   "source": [
    "sheet.add_chart(chart, \"A6\")\n",
    "xlsfile.save(\"movie_chart.xlsx\")"
   ]
  },
  {
   "cell_type": "code",
   "execution_count": null,
   "id": "2ed11c5b",
   "metadata": {},
   "outputs": [],
   "source": []
  }
 ],
 "metadata": {
  "kernelspec": {
   "display_name": "Python 3 (ipykernel)",
   "language": "python",
   "name": "python3"
  },
  "language_info": {
   "codemirror_mode": {
    "name": "ipython",
    "version": 3
   },
   "file_extension": ".py",
   "mimetype": "text/x-python",
   "name": "python",
   "nbconvert_exporter": "python",
   "pygments_lexer": "ipython3",
   "version": "3.11.5"
  }
 },
 "nbformat": 4,
 "nbformat_minor": 5
}

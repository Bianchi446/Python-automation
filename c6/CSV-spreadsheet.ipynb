{
 "cells": [
  {
   "cell_type": "code",
   "execution_count": 2,
   "id": "26c6390c",
   "metadata": {},
   "outputs": [],
   "source": [
    "# problem : Create a spreedshet with the CSV format "
   ]
  },
  {
   "cell_type": "code",
   "execution_count": 3,
   "id": "7b1c7180",
   "metadata": {},
   "outputs": [],
   "source": [
    "# 1  Import csv module \n",
    "import csv"
   ]
  },
  {
   "cell_type": "code",
   "execution_count": 4,
   "id": "a6bfc76b",
   "metadata": {},
   "outputs": [],
   "source": [
    "# 2  Define the header and the data to te stored\n",
    "\n",
    "HEADER = ('Name', 'Year') \n",
    "\n",
    "DATA = [\n",
    "    ('Gone with the Wind', 1977),\n",
    "    ('Tenet', 2020),\n",
    "    ('Oppenheimer', 2023)\n",
    "]"
   ]
  },
  {
   "cell_type": "code",
   "execution_count": 8,
   "id": "214b47b2",
   "metadata": {},
   "outputs": [],
   "source": [
    "# 3. Create a movies.csv CSV file with the csv.writer utility and pass the HEADER and DATA created\n",
    "\n",
    "with open('movies.csv', 'w') as csvfile:\n",
    "    movies = csv.writer(csvfile)\n",
    "    movies.writerow(HEADER)\n",
    "    for row in DATA:\n",
    "        movies.writerow(row)"
   ]
  }
 ],
 "metadata": {
  "kernelspec": {
   "display_name": "Python 3 (ipykernel)",
   "language": "python",
   "name": "python3"
  },
  "language_info": {
   "codemirror_mode": {
    "name": "ipython",
    "version": 3
   },
   "file_extension": ".py",
   "mimetype": "text/x-python",
   "name": "python",
   "nbconvert_exporter": "python",
   "pygments_lexer": "ipython3",
   "version": "3.11.5"
  }
 },
 "nbformat": 4,
 "nbformat_minor": 5
}

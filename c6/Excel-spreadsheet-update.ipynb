{
 "cells": [
  {
   "cell_type": "code",
   "execution_count": 1,
   "id": "e537cebe",
   "metadata": {},
   "outputs": [],
   "source": [
    "# Problem : Update the existing Excel spreadsheet by changing raw values and setting up formulas\n",
    "# That will be executed when the file is open"
   ]
  },
  {
   "cell_type": "code",
   "execution_count": 2,
   "id": "9850b1b9",
   "metadata": {},
   "outputs": [],
   "source": [
    "# 1. Import modules\n",
    "\n",
    "import openpyxl \n",
    "from openpyxl.comments import Comment "
   ]
  },
  {
   "cell_type": "code",
   "execution_count": 4,
   "id": "53f366d3",
   "metadata": {},
   "outputs": [],
   "source": [
    "# 2. Load the file into memory and get the sheet \n",
    "\n",
    "xlsfile = openpyxl.load_workbook('movies.xlsx')\n",
    "sheet = xlsfile['Sheet1']"
   ]
  },
  {
   "cell_type": "code",
   "execution_count": 5,
   "id": "87e71d3b",
   "metadata": {},
   "outputs": [
    {
     "data": {
      "text/plain": [
       "'Steven Spielberg'"
      ]
     },
     "execution_count": 5,
     "metadata": {},
     "output_type": "execute_result"
    }
   ],
   "source": [
    "# 3. Obtain the value from the D4 cell and change it to Spielberg \n",
    "\n",
    "sheet['D4'].value"
   ]
  },
  {
   "cell_type": "code",
   "execution_count": 9,
   "id": "67f8e3a3",
   "metadata": {},
   "outputs": [
    {
     "data": {
      "text/plain": [
       "'Spielberg'"
      ]
     },
     "execution_count": 9,
     "metadata": {},
     "output_type": "execute_result"
    }
   ],
   "source": [
    "sheet['D4'].value = 'Spielberg'\n",
    "sheet['D4'].value"
   ]
  },
  {
   "cell_type": "code",
   "execution_count": 11,
   "id": "966f31d7",
   "metadata": {},
   "outputs": [],
   "source": [
    "# 4. Add a comment to that cell \n",
    "\n",
    "sheet['D4'].comment = Comment('Changed text automatically', 'User')"
   ]
  },
  {
   "cell_type": "code",
   "execution_count": 12,
   "id": "15029643",
   "metadata": {},
   "outputs": [],
   "source": [
    "# 5. Add a new element that sums up all the values of \n",
    "\n",
    "sheet['B12'] = '=SUM(B2:B11)'"
   ]
  },
  {
   "cell_type": "code",
   "execution_count": 14,
   "id": "6b87925f",
   "metadata": {},
   "outputs": [],
   "source": [
    "xlsfile.save('movie_comment.xlsx')"
   ]
  },
  {
   "cell_type": "markdown",
   "id": "1f15fdce",
   "metadata": {},
   "source": [
    "####  How it works\n",
    "\n",
    "We first process the movies.xlsx file with the load_workbook utility\n",
    "\n",
    "We obtain the value of the D4 cell, we change it and then we add a comment to it\n",
    "\n",
    "We create a Excel Formula that sums up all the values of the admisions column and put it in a new row"
   ]
  },
  {
   "cell_type": "code",
   "execution_count": null,
   "id": "6aa4d508",
   "metadata": {},
   "outputs": [],
   "source": []
  }
 ],
 "metadata": {
  "kernelspec": {
   "display_name": "Python 3 (ipykernel)",
   "language": "python",
   "name": "python3"
  },
  "language_info": {
   "codemirror_mode": {
    "name": "ipython",
    "version": 3
   },
   "file_extension": ".py",
   "mimetype": "text/x-python",
   "name": "python",
   "nbconvert_exporter": "python",
   "pygments_lexer": "ipython3",
   "version": "3.11.5"
  }
 },
 "nbformat": 4,
 "nbformat_minor": 5
}

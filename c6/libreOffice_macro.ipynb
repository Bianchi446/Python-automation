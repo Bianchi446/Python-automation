{
 "cells": [
  {
   "cell_type": "markdown",
   "id": "4e6f3851",
   "metadata": {},
   "source": [
    "introduction : LibreOffice is a free productivity suite that's an alternative to MS Office and\n",
    "other office packages. It includes, among others, a text editor called writer and a\n",
    "spreadsheet program called Calc. Calc understands the regular Excel formats, and\n",
    "it's also totally scriptable internally through its UNO API. The UNO interface allows\n",
    "programmatic access to the suite, and it's accessible in different languages, such\n",
    "as Java."
   ]
  },
  {
   "cell_type": "code",
   "execution_count": null,
   "id": "f0b52304",
   "metadata": {},
   "outputs": [],
   "source": []
  }
 ],
 "metadata": {
  "kernelspec": {
   "display_name": "Python 3 (ipykernel)",
   "language": "python",
   "name": "python3"
  },
  "language_info": {
   "codemirror_mode": {
    "name": "ipython",
    "version": 3
   },
   "file_extension": ".py",
   "mimetype": "text/x-python",
   "name": "python",
   "nbconvert_exporter": "python",
   "pygments_lexer": "ipython3",
   "version": "3.11.5"
  }
 },
 "nbformat": 4,
 "nbformat_minor": 5
}

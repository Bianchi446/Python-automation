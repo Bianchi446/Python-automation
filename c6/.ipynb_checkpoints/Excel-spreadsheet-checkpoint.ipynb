{
 "cells": [
  {
   "cell_type": "code",
   "execution_count": 6,
   "id": "553e0465",
   "metadata": {},
   "outputs": [],
   "source": [
    "# Problem : Obtaining information from a spreadsheet"
   ]
  },
  {
   "cell_type": "code",
   "execution_count": 13,
   "id": "fae30408",
   "metadata": {},
   "outputs": [],
   "source": [
    "# 1. Import openpyxl\n",
    "\n",
    "import openpyxl"
   ]
  },
  {
   "cell_type": "code",
   "execution_count": 14,
   "id": "0b65e415",
   "metadata": {},
   "outputs": [],
   "source": [
    "# 2. Load the file into memory \n",
    "\n",
    "xlsfile = openpyxl.load_workbook('movies.xlsx')"
   ]
  },
  {
   "cell_type": "code",
   "execution_count": 15,
   "id": "df1dda21",
   "metadata": {},
   "outputs": [
    {
     "data": {
      "text/plain": [
       "['Sheet1']"
      ]
     },
     "execution_count": 15,
     "metadata": {},
     "output_type": "execute_result"
    }
   ],
   "source": [
    "# 3. List all the sheets and get the first one \n",
    "\n",
    "xlsfile.sheetnames"
   ]
  },
  {
   "cell_type": "code",
   "execution_count": 17,
   "id": "9b925410",
   "metadata": {},
   "outputs": [],
   "source": [
    "sheet = xlsfile['Sheet1']"
   ]
  },
  {
   "cell_type": "code",
   "execution_count": 20,
   "id": "01cef0e9",
   "metadata": {},
   "outputs": [
    {
     "data": {
      "text/plain": [
       "161"
      ]
     },
     "execution_count": 20,
     "metadata": {},
     "output_type": "execute_result"
    }
   ],
   "source": [
    "# 4. Obtain the values of cell B4 and D4 \n",
    "\n",
    "sheet['B4'].value"
   ]
  },
  {
   "cell_type": "code",
   "execution_count": 21,
   "id": "7ea533b3",
   "metadata": {},
   "outputs": [
    {
     "data": {
      "text/plain": [
       "'Steven Spielberg'"
      ]
     },
     "execution_count": 21,
     "metadata": {},
     "output_type": "execute_result"
    }
   ],
   "source": [
    "sheet['D4'].value"
   ]
  },
  {
   "cell_type": "code",
   "execution_count": 22,
   "id": "7372d24f",
   "metadata": {},
   "outputs": [
    {
     "data": {
      "text/plain": [
       "11"
      ]
     },
     "execution_count": 22,
     "metadata": {},
     "output_type": "execute_result"
    }
   ],
   "source": [
    "# 5. Obtain the size of rows and columns \n",
    "\n",
    "sheet.max_row"
   ]
  },
  {
   "cell_type": "code",
   "execution_count": 23,
   "id": "e6dc4ff5",
   "metadata": {},
   "outputs": [
    {
     "data": {
      "text/plain": [
       "4"
      ]
     },
     "execution_count": 23,
     "metadata": {},
     "output_type": "execute_result"
    }
   ],
   "source": [
    "sheet.max_column"
   ]
  },
  {
   "cell_type": "markdown",
   "id": "6ff94b90",
   "metadata": {},
   "source": [
    "#### More :\n",
    "Cells can also be retrieved with sheet.cell(column, row). Both elements start\n",
    "their index at 1."
   ]
  },
  {
   "cell_type": "code",
   "execution_count": null,
   "id": "8b6cebc7",
   "metadata": {},
   "outputs": [],
   "source": []
  }
 ],
 "metadata": {
  "kernelspec": {
   "display_name": "Python 3 (ipykernel)",
   "language": "python",
   "name": "python3"
  },
  "language_info": {
   "codemirror_mode": {
    "name": "ipython",
    "version": 3
   },
   "file_extension": ".py",
   "mimetype": "text/x-python",
   "name": "python",
   "nbconvert_exporter": "python",
   "pygments_lexer": "ipython3",
   "version": "3.11.5"
  }
 },
 "nbformat": 4,
 "nbformat_minor": 5
}

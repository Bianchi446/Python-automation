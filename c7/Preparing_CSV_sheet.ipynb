{
 "cells": [
  {
   "cell_type": "code",
   "execution_count": 1,
   "id": "9970d1b7",
   "metadata": {},
   "outputs": [],
   "source": [
    "# Problem : Extract data from log files and store the information in CSV sheet"
   ]
  },
  {
   "cell_type": "code",
   "execution_count": 2,
   "id": "81e152ae",
   "metadata": {},
   "outputs": [],
   "source": [
    "# Log Structure:\n",
    "# [<Timestamp>] - SALE - PRODUCT: <product_id> - SALE: <price>"
   ]
  },
  {
   "cell_type": "code",
   "execution_count": 3,
   "id": "9bacfdb5",
   "metadata": {},
   "outputs": [
    {
     "name": "stdout",
     "output_type": "stream",
     "text": [
      "Requirement already satisfied: parse==1.14.0 in /home/jose/anaconda3/lib/python3.11/site-packages (from -r requirements.txt (line 1)) (1.14.0)\n",
      "Note: you may need to restart the kernel to use updated packages.\n"
     ]
    }
   ],
   "source": [
    "pip install -r requirements.txt"
   ]
  },
  {
   "cell_type": "code",
   "execution_count": 11,
   "id": "f009a818",
   "metadata": {},
   "outputs": [
    {
     "name": "stdout",
     "output_type": "stream",
     "text": [
      "[08-27-2019 18:39:41] - SALE - PRODUCT: 12346 - PRICE: 02.99\n",
      "[08-27-2019 19:39:41] - SALE - PRODUCT: 12346 - PRICE: 02.99\n",
      "[08-27-2019 20:39:41] - SALE - PRODUCT: 12346 - PRICE: 02.99\n",
      "[08-27-2019 21:39:41] - SALE - PRODUCT: 12346 - PRICE: 02.99\n",
      "[08-27-2019 22:39:41] - SALE - PRODUCT: 12345 - PRICE: 09.99\n",
      "[08-27-2019 23:39:41] - SALE - PRODUCT: 12345 - PRICE: 07.99\n",
      "[08-28-2019 00:39:41] - SALE - PRODUCT: 12346 - PRICE: 02.99\n",
      "[08-28-2019 01:39:41] - SALE - PRODUCT: 12346 - PRICE: 02.99\n",
      "[08-28-2019 02:39:41] - SALE - PRODUCT: 12346 - PRICE: 02.99\n",
      "[08-28-2019 03:39:41] - SALE - PRODUCT: 12346 - PRICE: 02.99\n"
     ]
    }
   ],
   "source": [
    "%%bash\n",
    "\n",
    "# 1. Check the file\n",
    "\n",
    "head sales_log/OH/logs.txt"
   ]
  },
  {
   "cell_type": "code",
   "execution_count": 15,
   "id": "2e271546",
   "metadata": {},
   "outputs": [],
   "source": [
    "# 2. Use the logs_to_csv module \n",
    "\n",
    "# python logs_to_csv.py sale_logs/OH/logs.txt output_1_OH.csv "
   ]
  },
  {
   "cell_type": "markdown",
   "id": "a1dcb6d8",
   "metadata": {},
   "source": [
    "#### More :\n",
    "\n",
    "The main objective in this recipe is to import data from a text file into a CSV without\n",
    "imposing any formatting restrictions on the raw data. For example, the date is in a\n",
    "particular format. The timestamp format will change from file to file, as we will see\n",
    "in the following recipes.\n",
    "\n",
    "\n",
    "If the log files are very big, reading the whole file and then saving it could\n",
    "be memory-inefficient. In that case, you can process one line at a time."
   ]
  },
  {
   "cell_type": "code",
   "execution_count": null,
   "id": "aa95bae9",
   "metadata": {},
   "outputs": [],
   "source": [
    "\n"
   ]
  }
 ],
 "metadata": {
  "kernelspec": {
   "display_name": "Python 3 (ipykernel)",
   "language": "python",
   "name": "python3"
  },
  "language_info": {
   "codemirror_mode": {
    "name": "ipython",
    "version": 3
   },
   "file_extension": ".py",
   "mimetype": "text/x-python",
   "name": "python",
   "nbconvert_exporter": "python",
   "pygments_lexer": "ipython3",
   "version": "3.11.5"
  }
 },
 "nbformat": 4,
 "nbformat_minor": 5
}

{
 "cells": [
  {
   "cell_type": "code",
   "execution_count": 1,
   "id": "4895df19",
   "metadata": {},
   "outputs": [],
   "source": [
    "# Problem : Process CSV file to add extra information "
   ]
  },
  {
   "cell_type": "code",
   "execution_count": 2,
   "id": "2a156006",
   "metadata": {},
   "outputs": [],
   "source": [
    "# 1. import data(logs), transform it using the log_to_csv script \n",
    "\n",
    "# python logs_to_csv.py sale_logs/OH/logs.txt output_1_OH.csv\n",
    "# python logs_to_csv.py sale_logs/ON/logs.txt output_1_ON.csv"
   ]
  },
  {
   "cell_type": "code",
   "execution_count": 4,
   "id": "2474dc7e",
   "metadata": {},
   "outputs": [],
   "source": [
    "# 2. Process both resulting files using location_price \n",
    "#$ python location_price.py output_1_OH.csv output_2_OH.csv\n",
    "#$ python location_price.py output_1_ON.csv output_2_ON.csv"
   ]
  },
  {
   "cell_type": "code",
   "execution_count": null,
   "id": "ef6f3a97",
   "metadata": {},
   "outputs": [],
   "source": []
  }
 ],
 "metadata": {
  "kernelspec": {
   "display_name": "Python 3 (ipykernel)",
   "language": "python",
   "name": "python3"
  },
  "language_info": {
   "codemirror_mode": {
    "name": "ipython",
    "version": 3
   },
   "file_extension": ".py",
   "mimetype": "text/x-python",
   "name": "python",
   "nbconvert_exporter": "python",
   "pygments_lexer": "ipython3",
   "version": "3.11.5"
  }
 },
 "nbformat": 4,
 "nbformat_minor": 5
}

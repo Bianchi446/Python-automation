{
 "cells": [
  {
   "cell_type": "code",
   "execution_count": 1,
   "id": "b7ddecc3",
   "metadata": {},
   "outputs": [
    {
     "name": "stdout",
     "output_type": "stream",
     "text": [
      "Requirement already satisfied: jinja2==2.11.1 in /home/jose/anaconda3/lib/python3.11/site-packages (from -r requirements.txt (line 1)) (2.11.1)\n",
      "Requirement already satisfied: mistune==0.8.4 in /home/jose/anaconda3/lib/python3.11/site-packages (from -r requirements.txt (line 3)) (0.8.4)\n",
      "Requirement already satisfied: MarkupSafe>=0.23 in /home/jose/anaconda3/lib/python3.11/site-packages (from jinja2==2.11.1->-r requirements.txt (line 1)) (2.1.1)\n",
      "Note: you may need to restart the kernel to use updated packages.\n"
     ]
    }
   ],
   "source": [
    "pip install -r requirements.txt"
   ]
  },
  {
   "cell_type": "code",
   "execution_count": 3,
   "id": "5fbdb4b3",
   "metadata": {},
   "outputs": [],
   "source": [
    "# 1. Import\n",
    "\n",
    "import mistune \n",
    "import jinja2"
   ]
  },
  {
   "cell_type": "code",
   "execution_count": 6,
   "id": "c703c536",
   "metadata": {},
   "outputs": [],
   "source": [
    "# 2. Read both templates\n",
    "\n",
    "with open('email_template.md') as md_file:\n",
    "    markdown = md_file.read()\n",
    "    \n",
    "    \n",
    "with open('email_styling.html') as styling_file:\n",
    "    styling = styling_file.read()\n",
    "    "
   ]
  },
  {
   "cell_type": "code",
   "execution_count": null,
   "id": "08be57d6",
   "metadata": {},
   "outputs": [],
   "source": [
    "# 3. Define the data to include the template \n",
    "\n",
    "data = {\"name\" : \"seamus\"}"
   ]
  }
 ],
 "metadata": {
  "kernelspec": {
   "display_name": "Python 3 (ipykernel)",
   "language": "python",
   "name": "python3"
  },
  "language_info": {
   "codemirror_mode": {
    "name": "ipython",
    "version": 3
   },
   "file_extension": ".py",
   "mimetype": "text/x-python",
   "name": "python",
   "nbconvert_exporter": "python",
   "pygments_lexer": "ipython3",
   "version": "3.11.5"
  }
 },
 "nbformat": 4,
 "nbformat_minor": 5
}

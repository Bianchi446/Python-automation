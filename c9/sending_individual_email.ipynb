{
 "cells": [
  {
   "cell_type": "code",
   "execution_count": null,
   "id": "05503d46",
   "metadata": {},
   "outputs": [],
   "source": [
    "ERR! THE GOOGLE FEATURE IS NO LONGER SUPPORTED (MAY 2023) "
   ]
  },
  {
   "cell_type": "code",
   "execution_count": 40,
   "id": "5ba477f1",
   "metadata": {},
   "outputs": [],
   "source": [
    "# Problem : Send an individual email using the SMTP protocol "
   ]
  },
  {
   "cell_type": "code",
   "execution_count": 41,
   "id": "43b91b66",
   "metadata": {},
   "outputs": [],
   "source": [
    "# 1. import\n",
    "\n",
    "import smtplib \n",
    "from email.mime.multipart import MIMEMultipart \n",
    "from email.mime.text import MIMEText "
   ]
  },
  {
   "cell_type": "code",
   "execution_count": 42,
   "id": "5c5a2d23",
   "metadata": {},
   "outputs": [],
   "source": [
    "# 2. Setup the credentials\n",
    "\n",
    "USER = 'bianchi.josefrancisco@gmail.com'\n",
    "\n",
    "PASSWORD = 'Taylorswift2103'\n",
    "\n",
    "send_from = USER\n",
    "\n",
    "send_to = [USER]"
   ]
  },
  {
   "cell_type": "code",
   "execution_count": 43,
   "id": "38d98768",
   "metadata": {},
   "outputs": [],
   "source": [
    "# 3. Define the text to be send\n",
    "\n",
    "text = \"Hi!\\nThis is the text version linking to https://www.packtpub.com/\\nCheers!\""
   ]
  },
  {
   "cell_type": "code",
   "execution_count": 44,
   "id": "684e3654",
   "metadata": {},
   "outputs": [],
   "source": [
    "# 4. Compose the message as a MIME multipart including subject and from\n",
    "\n",
    "msg = MIMEMultipart('Alternative')\n",
    "msg['subject'] = 'An interesting email'\n",
    "msg['From'] = send_from\n",
    "msg['To'] = ', '.join(send_to)"
   ]
  },
  {
   "cell_type": "code",
   "execution_count": 45,
   "id": "6cc6ba77",
   "metadata": {},
   "outputs": [],
   "source": [
    "# 5. Fill in the data contents parts of the email \n",
    "\n",
    "part_plain = MIMEText(text, 'plain')\n",
    "\n",
    "msg.attach(part_plain)"
   ]
  },
  {
   "cell_type": "code",
   "execution_count": 46,
   "id": "204cf2e5",
   "metadata": {},
   "outputs": [
    {
     "ename": "SMTPAuthenticationError",
     "evalue": "(535, b'5.7.8 Username and Password not accepted. For more information, go to\\n5.7.8  https://support.google.com/mail/?p=BadCredentials 20-20020a631854000000b005cd64ff9a42sm111925pgy.64 - gsmtp')",
     "output_type": "error",
     "traceback": [
      "\u001b[0;31m---------------------------------------------------------------------------\u001b[0m",
      "\u001b[0;31mSMTPAuthenticationError\u001b[0m                   Traceback (most recent call last)",
      "Cell \u001b[0;32mIn[46], line 4\u001b[0m\n\u001b[1;32m      1\u001b[0m \u001b[38;5;66;03m# 6. Send the email using the STMP protocol \u001b[39;00m\n\u001b[1;32m      3\u001b[0m \u001b[38;5;28;01mwith\u001b[39;00m smtplib\u001b[38;5;241m.\u001b[39mSMTP_SSL(\u001b[38;5;124m'\u001b[39m\u001b[38;5;124msmtp.gmail.com\u001b[39m\u001b[38;5;124m'\u001b[39m, \u001b[38;5;241m465\u001b[39m) \u001b[38;5;28;01mas\u001b[39;00m server:\n\u001b[0;32m----> 4\u001b[0m     server\u001b[38;5;241m.\u001b[39mlogin(USER, PASSWORD)\n\u001b[1;32m      5\u001b[0m     server\u001b[38;5;241m.\u001b[39msendmail(sent_from, sent_to, msg\u001b[38;5;241m.\u001b[39mas_string())\n",
      "File \u001b[0;32m~/anaconda3/lib/python3.11/smtplib.py:750\u001b[0m, in \u001b[0;36mSMTP.login\u001b[0;34m(self, user, password, initial_response_ok)\u001b[0m\n\u001b[1;32m    747\u001b[0m         last_exception \u001b[38;5;241m=\u001b[39m e\n\u001b[1;32m    749\u001b[0m \u001b[38;5;66;03m# We could not login successfully.  Return result of last attempt.\u001b[39;00m\n\u001b[0;32m--> 750\u001b[0m \u001b[38;5;28;01mraise\u001b[39;00m last_exception\n",
      "File \u001b[0;32m~/anaconda3/lib/python3.11/smtplib.py:739\u001b[0m, in \u001b[0;36mSMTP.login\u001b[0;34m(self, user, password, initial_response_ok)\u001b[0m\n\u001b[1;32m    737\u001b[0m method_name \u001b[38;5;241m=\u001b[39m \u001b[38;5;124m'\u001b[39m\u001b[38;5;124mauth_\u001b[39m\u001b[38;5;124m'\u001b[39m \u001b[38;5;241m+\u001b[39m authmethod\u001b[38;5;241m.\u001b[39mlower()\u001b[38;5;241m.\u001b[39mreplace(\u001b[38;5;124m'\u001b[39m\u001b[38;5;124m-\u001b[39m\u001b[38;5;124m'\u001b[39m, \u001b[38;5;124m'\u001b[39m\u001b[38;5;124m_\u001b[39m\u001b[38;5;124m'\u001b[39m)\n\u001b[1;32m    738\u001b[0m \u001b[38;5;28;01mtry\u001b[39;00m:\n\u001b[0;32m--> 739\u001b[0m     (code, resp) \u001b[38;5;241m=\u001b[39m \u001b[38;5;28mself\u001b[39m\u001b[38;5;241m.\u001b[39mauth(\n\u001b[1;32m    740\u001b[0m         authmethod, \u001b[38;5;28mgetattr\u001b[39m(\u001b[38;5;28mself\u001b[39m, method_name),\n\u001b[1;32m    741\u001b[0m         initial_response_ok\u001b[38;5;241m=\u001b[39minitial_response_ok)\n\u001b[1;32m    742\u001b[0m     \u001b[38;5;66;03m# 235 == 'Authentication successful'\u001b[39;00m\n\u001b[1;32m    743\u001b[0m     \u001b[38;5;66;03m# 503 == 'Error: already authenticated'\u001b[39;00m\n\u001b[1;32m    744\u001b[0m     \u001b[38;5;28;01mif\u001b[39;00m code \u001b[38;5;129;01min\u001b[39;00m (\u001b[38;5;241m235\u001b[39m, \u001b[38;5;241m503\u001b[39m):\n",
      "File \u001b[0;32m~/anaconda3/lib/python3.11/smtplib.py:662\u001b[0m, in \u001b[0;36mSMTP.auth\u001b[0;34m(self, mechanism, authobject, initial_response_ok)\u001b[0m\n\u001b[1;32m    660\u001b[0m \u001b[38;5;28;01mif\u001b[39;00m code \u001b[38;5;129;01min\u001b[39;00m (\u001b[38;5;241m235\u001b[39m, \u001b[38;5;241m503\u001b[39m):\n\u001b[1;32m    661\u001b[0m     \u001b[38;5;28;01mreturn\u001b[39;00m (code, resp)\n\u001b[0;32m--> 662\u001b[0m \u001b[38;5;28;01mraise\u001b[39;00m SMTPAuthenticationError(code, resp)\n",
      "\u001b[0;31mSMTPAuthenticationError\u001b[0m: (535, b'5.7.8 Username and Password not accepted. For more information, go to\\n5.7.8  https://support.google.com/mail/?p=BadCredentials 20-20020a631854000000b005cd64ff9a42sm111925pgy.64 - gsmtp')"
     ]
    }
   ],
   "source": [
    "# 6. Send the email using the STMP protocol \n",
    "\n",
    "with smtplib.SMTP_SSL('smtp.gmail.com', 465) as server:\n",
    "    server.login(USER, PASSWORD)\n",
    "    server.sendmail(sent_from, sent_to, msg.as_string())"
   ]
  },
  {
   "cell_type": "code",
   "execution_count": null,
   "id": "d455fa6e",
   "metadata": {},
   "outputs": [],
   "source": []
  }
 ],
 "metadata": {
  "kernelspec": {
   "display_name": "Python 3 (ipykernel)",
   "language": "python",
   "name": "python3"
  },
  "language_info": {
   "codemirror_mode": {
    "name": "ipython",
    "version": 3
   },
   "file_extension": ".py",
   "mimetype": "text/x-python",
   "name": "python",
   "nbconvert_exporter": "python",
   "pygments_lexer": "ipython3",
   "version": "3.11.5"
  }
 },
 "nbformat": 4,
 "nbformat_minor": 5
}

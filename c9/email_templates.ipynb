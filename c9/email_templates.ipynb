{
 "cells": [
  {
   "cell_type": "code",
   "execution_count": null,
   "id": "f23816cc",
   "metadata": {},
   "outputs": [],
   "source": [
    "# Problem : To send an email, we first need to generate its content. In this recipe, we'll see how to\n",
    "# generate a proper template, in both text-only style and HTML."
   ]
  },
  {
   "cell_type": "code",
   "execution_count": 1,
   "id": "b800a572",
   "metadata": {},
   "outputs": [
    {
     "name": "stdout",
     "output_type": "stream",
     "text": [
      "Requirement already satisfied: jinja2==2.11.1 in /home/jose/anaconda3/lib/python3.11/site-packages (from -r requirements.txt (line 1)) (2.11.1)\n",
      "Requirement already satisfied: mistune==0.8.4 in /home/jose/anaconda3/lib/python3.11/site-packages (from -r requirements.txt (line 3)) (0.8.4)\n",
      "Requirement already satisfied: MarkupSafe>=0.23 in /home/jose/anaconda3/lib/python3.11/site-packages (from jinja2==2.11.1->-r requirements.txt (line 1)) (2.1.1)\n",
      "Note: you may need to restart the kernel to use updated packages.\n"
     ]
    }
   ],
   "source": [
    "pip install -r requirements.txt"
   ]
  },
  {
   "cell_type": "code",
   "execution_count": 29,
   "id": "d3f79bcd",
   "metadata": {},
   "outputs": [],
   "source": [
    "# 1. Import\n",
    "\n",
    "import mistune \n",
    "import jinja2"
   ]
  },
  {
   "cell_type": "code",
   "execution_count": 30,
   "id": "0b00b475",
   "metadata": {},
   "outputs": [],
   "source": [
    "# 2. Read both templates\n",
    "\n",
    "with open('email_template.md') as md_file:\n",
    "    markdown = md_file.read()\n",
    "    \n",
    "    \n",
    "with open('email_styling.html') as styling_file:\n",
    "    styling = styling_file.read()\n",
    "    "
   ]
  },
  {
   "cell_type": "code",
   "execution_count": 31,
   "id": "843efb03",
   "metadata": {},
   "outputs": [],
   "source": [
    "# 3. Define the data to include the template \n",
    "\n",
    "data = {\"name\" : \"Seamus\"}"
   ]
  },
  {
   "cell_type": "code",
   "execution_count": 32,
   "id": "fc3b613d",
   "metadata": {},
   "outputs": [],
   "source": [
    "# 4. Render the markdown template that renders the text only version of the data\n",
    "\n",
    "text = markdown.format(**data)"
   ]
  },
  {
   "cell_type": "code",
   "execution_count": 34,
   "id": "07b3b0b1",
   "metadata": {},
   "outputs": [],
   "source": [
    "# 5. Render the markdown and add styling \n",
    "\n",
    "html_content = mistune.markdown(text)\n",
    "\n",
    "html = jinja2.Template(styling).render(content=html_content)"
   ]
  },
  {
   "cell_type": "code",
   "execution_count": 26,
   "id": "a211f2f2",
   "metadata": {},
   "outputs": [],
   "source": [
    "# 6. Save the text and the HTML version \n",
    "\n",
    "with open('text_version.txt', 'w') as fp:\n",
    "    fp.write(text)"
   ]
  },
  {
   "cell_type": "code",
   "execution_count": 27,
   "id": "ca377337",
   "metadata": {},
   "outputs": [],
   "source": [
    "with open('html_version.html', 'w') as fp:\n",
    "    fp.write(text)"
   ]
  },
  {
   "cell_type": "code",
   "execution_count": 28,
   "id": "3d7633df",
   "metadata": {},
   "outputs": [
    {
     "name": "stdout",
     "output_type": "stream",
     "text": [
      "Hi Seamus:\r\n",
      "\r\n",
      "This is an email talking about **things**\r\n",
      "\r\n",
      "### Very important info\r\n",
      "\r\n",
      "1. One thing\r\n",
      "2. Other thing\r\n",
      "3. Some extra detail\r\n",
      "\r\n",
      "Best regards,\r\n",
      "\r\n",
      "  *The email team*\r\n"
     ]
    }
   ],
   "source": [
    "cat text_version.txt"
   ]
  },
  {
   "cell_type": "code",
   "execution_count": null,
   "id": "32b260f0",
   "metadata": {},
   "outputs": [],
   "source": []
  }
 ],
 "metadata": {
  "kernelspec": {
   "display_name": "Python 3 (ipykernel)",
   "language": "python",
   "name": "python3"
  },
  "language_info": {
   "codemirror_mode": {
    "name": "ipython",
    "version": 3
   },
   "file_extension": ".py",
   "mimetype": "text/x-python",
   "name": "python",
   "nbconvert_exporter": "python",
   "pygments_lexer": "ipython3",
   "version": "3.11.5"
  }
 },
 "nbformat": 4,
 "nbformat_minor": 5
}

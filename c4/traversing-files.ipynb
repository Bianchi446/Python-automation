{
 "cells": [
  {
   "cell_type": "code",
   "execution_count": 14,
   "id": "d21c1b85",
   "metadata": {},
   "outputs": [
    {
     "name": "stdout",
     "output_type": "stream",
     "text": [
      "traversing-files.ipynb\n",
      "traversing-files-checkpoint.ipynb\n",
      "file2.txt\n",
      "file1.txt\n",
      "file6.pdf\n",
      "file5.pdf\n",
      "file4.txt\n",
      "file3.txt\n"
     ]
    }
   ],
   "source": [
    "import os \n",
    "\n",
    "# Print the files in the dir directory \n",
    "\n",
    "for root, dirs, files in os.walk('.'):\n",
    "    for file in files:\n",
    "        print(file)"
   ]
  },
  {
   "cell_type": "code",
   "execution_count": 15,
   "id": "d171255c",
   "metadata": {},
   "outputs": [
    {
     "name": "stdout",
     "output_type": "stream",
     "text": [
      "./traversing-files.ipynb\n",
      "./.ipynb_checkpoints/traversing-files-checkpoint.ipynb\n",
      "./dir/file2.txt\n",
      "./dir/file1.txt\n",
      "./dir/file6.pdf\n",
      "./dir/subdir/file5.pdf\n",
      "./dir/subdir/file4.txt\n",
      "./dir/subdir/file3.txt\n"
     ]
    }
   ],
   "source": [
    "# Print the full paths of the files in dir and subdir\n",
    "\n",
    "for root, dirs, files in os.walk('.'):\n",
    "    for file in files:\n",
    "        full_file_path = os.path.join(root, file)\n",
    "        print(full_file_path)"
   ]
  },
  {
   "cell_type": "code",
   "execution_count": 17,
   "id": "ee2fc0d3",
   "metadata": {},
   "outputs": [
    {
     "name": "stdout",
     "output_type": "stream",
     "text": [
      "./dir/file6.pdf\n",
      "./dir/subdir/file5.pdf\n"
     ]
    }
   ],
   "source": [
    "# Print only the pdf \n",
    "\n",
    "for root, dirs, files in os.walk('.'):\n",
    "    for file in files:\n",
    "        if file.endswith('pdf'):\n",
    "            full_file_path = os.path.join(root, file)\n",
    "            print(full_file_path)"
   ]
  },
  {
   "cell_type": "code",
   "execution_count": 21,
   "id": "202406a7",
   "metadata": {},
   "outputs": [
    {
     "name": "stdout",
     "output_type": "stream",
     "text": [
      "./dir/file2.txt\n",
      "./dir/file6.pdf\n",
      "./dir/subdir/file4.txt\n"
     ]
    }
   ],
   "source": [
    "# Print only files that contains an even number \n",
    "\n",
    "import re \n",
    "\n",
    "for root, dirs, files in os.walk('.'):\n",
    "    for file in files:\n",
    "        if re.search(r'[2468]', file):\n",
    "            full_file_path = os.path.join(root, file)\n",
    "            print(full_file_path)"
   ]
  },
  {
   "cell_type": "code",
   "execution_count": null,
   "id": "25c72d3a",
   "metadata": {},
   "outputs": [],
   "source": []
  }
 ],
 "metadata": {
  "kernelspec": {
   "display_name": "Python 3 (ipykernel)",
   "language": "python",
   "name": "python3"
  },
  "language_info": {
   "codemirror_mode": {
    "name": "ipython",
    "version": 3
   },
   "file_extension": ".py",
   "mimetype": "text/x-python",
   "name": "python",
   "nbconvert_exporter": "python",
   "pygments_lexer": "ipython3",
   "version": "3.11.5"
  }
 },
 "nbformat": 4,
 "nbformat_minor": 5
}

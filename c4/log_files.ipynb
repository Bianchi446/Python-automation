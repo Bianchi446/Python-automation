{
 "cells": [
  {
   "cell_type": "code",
   "execution_count": 2,
   "id": "93dab217",
   "metadata": {},
   "outputs": [],
   "source": [
    "# Log files : Rows of logs which are a line of text with a particular format, describing an event"
   ]
  },
  {
   "cell_type": "code",
   "execution_count": 3,
   "id": "55150786",
   "metadata": {},
   "outputs": [],
   "source": [
    "# Format used in this problem : [<Timestamp in iso format>] - SALE - PRODUCT: <product id> - PRICE : $<price>"
   ]
  },
  {
   "cell_type": "code",
   "execution_count": 10,
   "id": "30e95278",
   "metadata": {},
   "outputs": [
    {
     "data": {
      "text/plain": [
       "[<PriceLog (Delorean(datetime=datetime.datetime(2018, 6, 17, 22, 11, 50, 268396), timezone='UTC'), 1489, 9.99)>,\n",
       " <PriceLog (Delorean(datetime=datetime.datetime(2018, 6, 17, 22, 11, 50, 268442), timezone='UTC'), 4508, 5.30)>,\n",
       " <PriceLog (Delorean(datetime=datetime.datetime(2018, 6, 17, 22, 11, 50, 268454), timezone='UTC'), 8597, 15.49)>,\n",
       " <PriceLog (Delorean(datetime=datetime.datetime(2018, 6, 17, 22, 11, 50, 268461), timezone='UTC'), 3086, 7.05)>,\n",
       " <PriceLog (Delorean(datetime=datetime.datetime(2018, 6, 17, 22, 11, 50, 268468), timezone='UTC'), 1489, 9.99)>]"
      ]
     },
     "execution_count": 10,
     "metadata": {},
     "output_type": "execute_result"
    }
   ],
   "source": [
    "# Open the file and parse Logs\n",
    "\n",
    "from PriceLog import PriceLog\n",
    "\n",
    "with open('Documents/example_logs.log') as file:\n",
    "    logs = [PriceLog.parse(log) for log in file]\n",
    "logs"
   ]
  },
  {
   "cell_type": "code",
   "execution_count": 11,
   "id": "482835fe",
   "metadata": {},
   "outputs": [
    {
     "data": {
      "text/plain": [
       "Decimal('47.82')"
      ]
     },
     "execution_count": 11,
     "metadata": {},
     "output_type": "execute_result"
    }
   ],
   "source": [
    "# Determine the total income by all sales\n",
    "\n",
    "total = sum(log.price for log in logs)\n",
    "total"
   ]
  },
  {
   "cell_type": "code",
   "execution_count": 12,
   "id": "60363890",
   "metadata": {},
   "outputs": [
    {
     "data": {
      "text/plain": [
       "Counter({1489: 2, 4508: 1, 8597: 1, 3086: 1})"
      ]
     },
     "execution_count": 12,
     "metadata": {},
     "output_type": "execute_result"
    }
   ],
   "source": [
    "# Determine how many have been sold of each unit \n",
    "\n",
    "from collections import Counter\n",
    "\n",
    "counter = Counter(log.product_id for log in logs)\n",
    "counter"
   ]
  },
  {
   "cell_type": "code",
   "execution_count": null,
   "id": "b1c67414",
   "metadata": {},
   "outputs": [],
   "source": []
  }
 ],
 "metadata": {
  "kernelspec": {
   "display_name": "Python 3 (ipykernel)",
   "language": "python",
   "name": "python3"
  },
  "language_info": {
   "codemirror_mode": {
    "name": "ipython",
    "version": 3
   },
   "file_extension": ".py",
   "mimetype": "text/x-python",
   "name": "python",
   "nbconvert_exporter": "python",
   "pygments_lexer": "ipython3",
   "version": "3.11.5"
  }
 },
 "nbformat": 4,
 "nbformat_minor": 5
}

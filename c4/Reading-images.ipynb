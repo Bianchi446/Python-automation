{
 "cells": [
  {
   "cell_type": "code",
   "execution_count": 2,
   "id": "3ab83146",
   "metadata": {},
   "outputs": [],
   "source": [
    "# Getting information from both JPG and JPGE images formats "
   ]
  },
  {
   "cell_type": "code",
   "execution_count": 3,
   "id": "10b2a10b",
   "metadata": {},
   "outputs": [
    {
     "name": "stdout",
     "output_type": "stream",
     "text": [
      "Collecting Pillow==7.0.0 (from -r requirements.txt (line 1))\n",
      "  Downloading Pillow-7.0.0.tar.gz (38.2 MB)\n",
      "\u001b[2K     \u001b[38;2;114;156;31m━━━━━━━━━━━━━━━━━━━━━━━━━━━━━━━━━━━━━━━━\u001b[0m \u001b[32m38.2/38.2 MB\u001b[0m \u001b[31m2.3 MB/s\u001b[0m eta \u001b[36m0:00:00\u001b[0mm eta \u001b[36m0:00:01\u001b[0m[36m0:00:01\u001b[0m\n",
      "\u001b[?25h  Preparing metadata (setup.py) ... \u001b[?25ldone\n",
      "\u001b[?25hCollecting xmltodict==0.12.0 (from -r requirements.txt (line 3))\n",
      "  Downloading xmltodict-0.12.0-py2.py3-none-any.whl (9.2 kB)\n",
      "Building wheels for collected packages: Pillow\n",
      "  Building wheel for Pillow (setup.py) ... \u001b[?25ldone\n",
      "\u001b[?25h  Created wheel for Pillow: filename=Pillow-7.0.0-cp311-cp311-linux_x86_64.whl size=529553 sha256=e2a88429a2188ad94ac236f05cf85264d3549c746cfc29fe91328d7ad94949b5\n",
      "  Stored in directory: /home/jose/.cache/pip/wheels/14/42/5a/0ad0717904a47191697dcd69a7c3f0b6efc2b56c44ed0e2efc\n",
      "Successfully built Pillow\n",
      "Installing collected packages: xmltodict, Pillow\n",
      "  Attempting uninstall: Pillow\n",
      "    Found existing installation: Pillow 9.4.0\n",
      "    Uninstalling Pillow-9.4.0:\n",
      "      Successfully uninstalled Pillow-9.4.0\n",
      "\u001b[31mERROR: pip's dependency resolver does not currently take into account all the packages that are installed. This behaviour is the source of the following dependency conflicts.\n",
      "imageio 2.31.1 requires pillow>=8.3.2, but you have pillow 7.0.0 which is incompatible.\n",
      "bokeh 3.2.1 requires pillow>=7.1.0, but you have pillow 7.0.0 which is incompatible.\n",
      "scikit-image 0.20.0 requires pillow>=9.0.1, but you have pillow 7.0.0 which is incompatible.\u001b[0m\u001b[31m\n",
      "\u001b[0mSuccessfully installed Pillow-7.0.0 xmltodict-0.12.0\n",
      "Note: you may need to restart the kernel to use updated packages.\n"
     ]
    }
   ],
   "source": [
    "pip install -r requirements.txt"
   ]
  },
  {
   "cell_type": "code",
   "execution_count": 5,
   "id": "2003aa4e",
   "metadata": {},
   "outputs": [],
   "source": [
    "from PIL import Image\n",
    "from PIL.ExifTags import TAGS, GPSTAGS\n",
    "import xmltodict\n",
    "from gps_conversion import exif_to_decimal, rdf_to_decimal \n",
    "\n"
   ]
  },
  {
   "cell_type": "code",
   "execution_count": 11,
   "id": "7f2586c2",
   "metadata": {},
   "outputs": [
    {
     "data": {
      "text/plain": [
       "3024"
      ]
     },
     "execution_count": 11,
     "metadata": {},
     "output_type": "execute_result"
    }
   ],
   "source": [
    "# Checking image height\n",
    "\n",
    "image1.height"
   ]
  },
  {
   "cell_type": "code",
   "execution_count": 12,
   "id": "fa682384",
   "metadata": {},
   "outputs": [
    {
     "data": {
      "text/plain": [
       "4032"
      ]
     },
     "execution_count": 12,
     "metadata": {},
     "output_type": "execute_result"
    }
   ],
   "source": [
    "# Checking image width \n",
    "\n",
    "image1.width"
   ]
  },
  {
   "cell_type": "code",
   "execution_count": 13,
   "id": "432e7939",
   "metadata": {},
   "outputs": [
    {
     "data": {
      "text/plain": [
       "'JPEG'"
      ]
     },
     "execution_count": 13,
     "metadata": {},
     "output_type": "execute_result"
    }
   ],
   "source": [
    "# Checking image format \n",
    "\n",
    "image1.format"
   ]
  },
  {
   "cell_type": "code",
   "execution_count": 15,
   "id": "e5405338",
   "metadata": {},
   "outputs": [
    {
     "data": {
      "text/plain": [
       "{'ExifVersion': b'0221',\n",
       " 'ComponentsConfiguration': b'\\x01\\x02\\x03\\x00',\n",
       " 'ShutterSpeedValue': (9007, 812),\n",
       " 'DateTimeOriginal': '2018:04:21 12:07:55',\n",
       " 'DateTimeDigitized': '2018:04:21 12:07:55',\n",
       " 'ApertureValue': (2159, 1273),\n",
       " 'BrightnessValue': (7531, 711),\n",
       " 'ExposureBiasValue': (0, 1),\n",
       " 'MeteringMode': 5,\n",
       " 'Flash': 16,\n",
       " 'FocalLength': (4, 1),\n",
       " 'ExifImageWidth': 4032,\n",
       " 'ExifImageHeight': 3024,\n",
       " 'FocalLengthIn35mmFilm': 28,\n",
       " 'SceneCaptureType': 0,\n",
       " 'Make': 'Apple',\n",
       " 'Model': 'iPhone X',\n",
       " 'SubsecTimeOriginal': '695',\n",
       " 'SubsecTimeDigitized': '695',\n",
       " 'Orientation': 1,\n",
       " 'SubjectLocation': (2015, 1511, 2217, 1330),\n",
       " 'SensingMethod': 2,\n",
       " 'ExposureTime': (1, 2183),\n",
       " 'XResolution': (72, 1),\n",
       " 'YResolution': (72, 1),\n",
       " 'FNumber': (9, 5),\n",
       " 'SceneType': b'\\x01',\n",
       " 'ExposureProgram': 2,\n",
       " 'GPSInfo': {1: 'N',\n",
       "  2: ((53, 1), (20, 1), (4886, 100)),\n",
       "  3: 'W',\n",
       "  4: ((6, 1), (14, 1), (5207, 100)),\n",
       "  5: b'\\x00',\n",
       "  6: (5, 1),\n",
       "  7: ((11, 1), (7, 1), (55, 1)),\n",
       "  12: 'K',\n",
       "  13: (2977, 14332),\n",
       "  16: 'T',\n",
       "  17: (24574, 271),\n",
       "  23: 'T',\n",
       "  24: (24574, 271),\n",
       "  29: '2018:04:21',\n",
       "  31: (4, 1)},\n",
       " 'ISOSpeedRatings': 20,\n",
       " 'ResolutionUnit': 2,\n",
       " 'ExposureMode': 0,\n",
       " 'FlashPixVersion': b'0100',\n",
       " 'WhiteBalance': 0,\n",
       " 'Software': 'Photos 3.0',\n",
       " 'LensSpecification': ((4, 1), (6, 1), (9, 5), (12, 5)),\n",
       " 'LensMake': 'Apple',\n",
       " 'LensModel': 'iPhone X back dual camera 4mm f/1.8',\n",
       " 'DateTime': '2018:04:21 12:07:55',\n",
       " 'TileWidth': 512,\n",
       " 'TileLength': 512,\n",
       " 'ExifOffset': 222,\n",
       " 'MakerNote': b\"Apple iOS\\x00\\x00\\x01MM\\x00\\x11\\x00\\x01\\x00\\t\\x00\\x00\\x00\\x01\\x00\\x00\\x00\\t\\x00\\x02\\x00\\x07\\x00\\x00\\x02.\\x00\\x00\\x00\\xe0\\x00\\x03\\x00\\x07\\x00\\x00\\x00h\\x00\\x00\\x03\\x0e\\x00\\x04\\x00\\t\\x00\\x00\\x00\\x01\\x00\\x00\\x00\\x01\\x00\\x05\\x00\\t\\x00\\x00\\x00\\x01\\x00\\x00\\x00\\xc2\\x00\\x06\\x00\\t\\x00\\x00\\x00\\x01\\x00\\x00\\x00\\xc8\\x00\\x07\\x00\\t\\x00\\x00\\x00\\x01\\x00\\x00\\x00\\x01\\x00\\x08\\x00\\n\\x00\\x00\\x00\\x03\\x00\\x00\\x03v\\x00\\x0c\\x00\\n\\x00\\x00\\x00\\x02\\x00\\x00\\x03\\x8e\\x00\\r\\x00\\t\\x00\\x00\\x00\\x01\\x00\\x00\\x00\\x0e\\x00\\x0e\\x00\\t\\x00\\x00\\x00\\x01\\x00\\x00\\x00\\x04\\x00\\x10\\x00\\t\\x00\\x00\\x00\\x01\\x00\\x00\\x00\\x01\\x00\\x14\\x00\\t\\x00\\x00\\x00\\x01\\x00\\x00\\x00\\x01\\x00\\x17\\x00\\t\\x00\\x00\\x00\\x01\\x00\\x00 \\x00\\x00\\x19\\x00\\t\\x00\\x00\\x00\\x01\\x00\\x00\\x00\\x00\\x00\\x1a\\x00\\x02\\x00\\x00\\x00\\x06\\x00\\x00\\x03\\x9e\\x00\\x1f\\x00\\t\\x00\\x00\\x00\\x01\\x00\\x00\\x00\\x00\\x00\\x00\\x00\\x00bplist00O\\x11\\x02\\x00\\x8e\\x008\\x00>\\x00A\\x00\\x8c\\x00\\x96\\x00\\x82\\x005\\x000\\x002\\x001\\x00.\\x004\\x00<\\x006\\x003\\x00\\x8d\\x00P\\x00\\x9a\\x00\\x81\\x00\\x9f\\x00\\x8b\\x00C\\x009\\x00<\\x007\\x007\\x006\\x00=\\x00>\\x005\\x005\\x00\\x8f\\x00,\\x00\\xa7\\x00\\x9f\\x00\\x8f\\x00S\\x00F\\x00I\\x00A\\x00>\\x009\\x00?\\x00@\\x00K\\x00C\\x00<\\x00\\x82\\x003\\x00\\x99\\x00\\x92\\x00p\\x00[\\x00S\\x00L\\x00M\\x00H\\x00F\\x00C\\x00L\\x00S\\x00J\\x00A\\x00\\x7f\\x00q\\x00\\xa1\\x00v\\x00o\\x00c\\x00]\\x00V\\x00P\\x00Q\\x00L\\x00L\\x00W\\x00_\\x00Z\\x00E\\x00u\\x00t\\x00\\x8a\\x00x\\x00n\\x00g\\x00a\\x00^\\x00Y\\x00W\\x00M\\x00O\\x00^\\x00o\\x00n\\x00T\\x00@\\x00O\\x00\\x88\\x00p\\x00m\\x00i\\x00e\\x00j\\x00e\\x00]\\x00\\x86\\x00]\\x00|\\x00\\x89\\x00\\xa5\\x00\\x8e\\x00(\\x00d\\x00\\x9b\\x01v\\x01R\\x01p\\x00l\\x00\\xd2\\x00x\\x00y\\x00Y\\x00\\xac\\x00\\xea\\x00I\\x01\\x07\\x01?\\x00\\xad\\x00h\\x01\\n\\x02\\xea\\x01\\xd6\\x01\\xce\\x01\\x80\\x01\\x07\\x01\\xc2\\x00\\x07\\x01\\xb1\\x00\\x08\\x01q\\x01\\xfc\\x01q\\x01P\\x00\\x86\\x01\\xe5\\x01\\xd2\\x01\\xbd\\x01\\xac\\x01\\x9d\\x01\\x8f\\x01\\x82\\x01w\\x01n\\x01]\\x01P\\x01p\\x01\\x9a\\x01h\\x01K\\x01v\\x01\\x9d\\x01\\x99\\x01\\x87\\x01y\\x01m\\x01b\\x01X\\x01N\\x01E\\x01=\\x017\\x015\\x014\\x013\\x010\\x01\\xf3\\x00s\\x01t\\x01d\\x01V\\x01H\\x01<\\x011\\x01(\\x01 \\x01\\x19\\x01\\x16\\x01\\x14\\x01\\x13\\x01\\x11\\x01\\x0f\\x01r\\x01f\\x01W\\x01F\\x016\\x01&\\x01\\x1b\\x01\\x12\\x01\\x0b\\x01\\x04\\x01\\xff\\x00\\xfc\\x00\\xfa\\x00\\xf8\\x00\\xf6\\x00\\xf4\\x00W\\x01H\\x01<\\x01*\\x01\\x1a\\x01\\x0e\\x01\\x04\\x01\\xfd\\x00\\xf6\\x00\\xef\\x00\\xea\\x00\\xe7\\x00\\xe4\\x00\\xe2\\x00\\xe0\\x00\\xde\\x00@\\x012\\x01$\\x01\\x15\\x01\\x08\\x01\\xfd\\x00\\xf3\\x00\\xeb\\x00\\xe4\\x00\\xde\\x00\\xd9\\x00\\xd5\\x00\\xd3\\x00\\xd0\\x00\\xcd\\x00\\xcc\\x00,\\x01\\x1e\\x01\\x12\\x01\\x05\\x01\\xfa\\x00\\xef\\x00\\xe5\\x00\\xdd\\x00\\xd6\\x00\\xcf\\x00\\xcb\\x00\\xc7\\x00\\xc4\\x00\\xc1\\x00\\xbe\\x00\\xbd\\x00\\x00\\x08\\x00\\x00\\x00\\x00\\x00\\x00\\x02\\x01\\x00\\x00\\x00\\x00\\x00\\x00\\x00\\x01\\x00\\x00\\x00\\x00\\x00\\x00\\x00\\x00\\x00\\x00\\x00\\x00\\x00\\x00\\x02\\x0cbplist00\\xd4\\x01\\x02\\x03\\x04\\x05\\x06\\x07\\x08UflagsUvalueYtimescaleUepoch\\x10\\x01\\x13\\x00\\x06\\xab!\\x86\\xa9\\x01\\x18\\x12;\\x9a\\xca\\x00\\x10\\x00\\x08\\x11\\x17\\x1d'-/8=\\x00\\x00\\x00\\x00\\x00\\x00\\x01\\x01\\x00\\x00\\x00\\x00\\x00\\x00\\x00\\t\\x00\\x00\\x00\\x00\\x00\\x00\\x00\\x00\\x00\\x00\\x00\\x00\\x00\\x00\\x00?\\x00\\x00\\x02M\\x00\\x00\\x02L\\x00\\x00\\x01?\\x00\\x00Nt\\x00\\x00\\r\\x13\\x00\\x00\\x99O\\x00\\x00\\x07u\\x00\\x00\\x00\\x80\\x00\\x002\\r\\x00\\x00\\x01\\x00q825s\\x00\"}"
      ]
     },
     "execution_count": 15,
     "metadata": {},
     "output_type": "execute_result"
    }
   ],
   "source": [
    "# Retrieve the EXIF information \n",
    "\n",
    "exif_info_1 = {TAGS.get(tag, tag) : value for tag, value in image1._getexif().items()}\n",
    "\n",
    "exif_info_1"
   ]
  },
  {
   "cell_type": "markdown",
   "id": "aa8aada5",
   "metadata": {},
   "source": [
    "#### More \n",
    "A more advanced use of reading image files is to try to process them for OCR\n",
    "(Optical Character Recognition). This means automatically detecting text in an\n",
    "image and extracting and processing it. The open source module tesseract allows\n",
    "you to do this, and it can be used with Python and Pillow."
   ]
  },
  {
   "cell_type": "code",
   "execution_count": null,
   "id": "265f1378",
   "metadata": {},
   "outputs": [],
   "source": []
  }
 ],
 "metadata": {
  "kernelspec": {
   "display_name": "Python 3 (ipykernel)",
   "language": "python",
   "name": "python3"
  },
  "language_info": {
   "codemirror_mode": {
    "name": "ipython",
    "version": 3
   },
   "file_extension": ".py",
   "mimetype": "text/x-python",
   "name": "python",
   "nbconvert_exporter": "python",
   "pygments_lexer": "ipython3",
   "version": "3.11.5"
  }
 },
 "nbformat": 4,
 "nbformat_minor": 5
}

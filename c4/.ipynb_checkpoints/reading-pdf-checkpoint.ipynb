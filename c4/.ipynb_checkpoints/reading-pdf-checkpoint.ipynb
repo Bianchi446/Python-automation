{
 "cells": [
  {
   "cell_type": "code",
   "execution_count": 1,
   "id": "b6887a24",
   "metadata": {},
   "outputs": [],
   "source": [
    "# Read PDF files with PyPDF"
   ]
  },
  {
   "cell_type": "code",
   "execution_count": 4,
   "id": "92113649",
   "metadata": {},
   "outputs": [
    {
     "name": "stdout",
     "output_type": "stream",
     "text": [
      "Requirement already satisfied: Pillow==7.0.0 in /home/jose/anaconda3/lib/python3.11/site-packages (from -r requirements.txt (line 1)) (7.0.0)\n",
      "Requirement already satisfied: xmltodict==0.12.0 in /home/jose/anaconda3/lib/python3.11/site-packages (from -r requirements.txt (line 3)) (0.12.0)\n",
      "Collecting PyPDF2==1.26.0 (from -r requirements.txt (line 5))\n",
      "  Downloading PyPDF2-1.26.0.tar.gz (77 kB)\n",
      "\u001b[2K     \u001b[38;2;114;156;31m━━━━━━━━━━━━━━━━━━━━━━━━━━━━━━━━━━━━━━━\u001b[0m \u001b[32m77.6/77.6 kB\u001b[0m \u001b[31m835.6 kB/s\u001b[0m eta \u001b[36m0:00:00\u001b[0m31m2.0 MB/s\u001b[0m eta \u001b[36m0:00:01\u001b[0m\n",
      "\u001b[?25h  Preparing metadata (setup.py) ... \u001b[?25ldone\n",
      "\u001b[?25hBuilding wheels for collected packages: PyPDF2\n",
      "  Building wheel for PyPDF2 (setup.py) ... \u001b[?25ldone\n",
      "\u001b[?25h  Created wheel for PyPDF2: filename=PyPDF2-1.26.0-py3-none-any.whl size=61081 sha256=0fcdcde43990e3a9ef03118b90c5410dd892abf9153048553ee1bae871ecb881\n",
      "  Stored in directory: /home/jose/.cache/pip/wheels/71/61/d5/5383a0b3a4f5eed2438f67d4a840fafda466dd0b7286d52ab5\n",
      "Successfully built PyPDF2\n",
      "Installing collected packages: PyPDF2\n",
      "Successfully installed PyPDF2-1.26.0\n",
      "Note: you may need to restart the kernel to use updated packages.\n"
     ]
    }
   ],
   "source": [
    "pip install -r requirements.txt"
   ]
  },
  {
   "cell_type": "code",
   "execution_count": 7,
   "id": "49b722fb",
   "metadata": {},
   "outputs": [
    {
     "data": {
      "text/plain": [
       "<PyPDF2.pdf.PdfFileReader at 0x7fabc453a950>"
      ]
     },
     "execution_count": 7,
     "metadata": {},
     "output_type": "execute_result"
    }
   ],
   "source": [
    "from PyPDF2 import PdfFileReader\n",
    "\n",
    "file = open('Documents/document-1.pdf', 'rb')\n",
    "\n",
    "document = PdfFileReader(file)\n",
    "document"
   ]
  },
  {
   "cell_type": "code",
   "execution_count": 12,
   "id": "6bf87be2",
   "metadata": {},
   "outputs": [
    {
     "data": {
      "text/plain": [
       "3"
      ]
     },
     "execution_count": 12,
     "metadata": {},
     "output_type": "execute_result"
    }
   ],
   "source": [
    "# Get the number of pages of the document\n",
    "\n",
    "document.numPages"
   ]
  },
  {
   "cell_type": "code",
   "execution_count": 13,
   "id": "94cd82e3",
   "metadata": {},
   "outputs": [
    {
     "data": {
      "text/plain": [
       "False"
      ]
     },
     "execution_count": 13,
     "metadata": {},
     "output_type": "execute_result"
    }
   ],
   "source": [
    "# Check if it is encrypted\n",
    "\n",
    "document.isEncrypted"
   ]
  },
  {
   "cell_type": "code",
   "execution_count": 11,
   "id": "2c31dbed",
   "metadata": {},
   "outputs": [
    {
     "data": {
      "text/plain": [
       "{'/Title': 'Untitled 6.pages',\n",
       " '/Producer': 'Mac OS X 10.13.5 Quartz PDFContext',\n",
       " '/Creator': 'Pages',\n",
       " '/CreationDate': \"D:20180624111518Z00'00'\",\n",
       " '/ModDate': \"D:20180624111518Z00'00'\"}"
      ]
     },
     "execution_count": 11,
     "metadata": {},
     "output_type": "execute_result"
    }
   ],
   "source": [
    "# Check information about the file \n",
    "\n",
    "document.documentInfo"
   ]
  },
  {
   "cell_type": "code",
   "execution_count": 14,
   "id": "6237e445",
   "metadata": {},
   "outputs": [
    {
     "data": {
      "text/plain": [
       "'!A VERY IMPORTANT DOCUMENT \\nBy James McCormac CEO Loose Seal Inc '"
      ]
     },
     "execution_count": 14,
     "metadata": {},
     "output_type": "execute_result"
    }
   ],
   "source": [
    "document.pages[0].extractText()"
   ]
  },
  {
   "cell_type": "markdown",
   "id": "519824e7",
   "metadata": {},
   "source": [
    "#### More : \n",
    "The document object provides access to the document and the text, Each of the page objects can get its text by calling .extractText(), which will return all the text contained in the page,"
   ]
  },
  {
   "cell_type": "code",
   "execution_count": null,
   "id": "ac1c3dba",
   "metadata": {},
   "outputs": [],
   "source": []
  }
 ],
 "metadata": {
  "kernelspec": {
   "display_name": "Python 3 (ipykernel)",
   "language": "python",
   "name": "python3"
  },
  "language_info": {
   "codemirror_mode": {
    "name": "ipython",
    "version": 3
   },
   "file_extension": ".py",
   "mimetype": "text/x-python",
   "name": "python",
   "nbconvert_exporter": "python",
   "pygments_lexer": "ipython3",
   "version": "3.11.5"
  }
 },
 "nbformat": 4,
 "nbformat_minor": 5
}

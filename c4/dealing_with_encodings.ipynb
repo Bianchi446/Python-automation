{
 "cells": [
  {
   "cell_type": "code",
   "execution_count": 3,
   "id": "1a1a174e",
   "metadata": {},
   "outputs": [
    {
     "name": "stdout",
     "output_type": "stream",
     "text": [
      "20£\n",
      "\n"
     ]
    }
   ],
   "source": [
    "with open('Documents/example_utf8.txt') as file:\n",
    "    print(file.read())"
   ]
  },
  {
   "cell_type": "code",
   "execution_count": 4,
   "id": "1a821a78",
   "metadata": {},
   "outputs": [
    {
     "ename": "UnicodeDecodeError",
     "evalue": "'utf-8' codec can't decode byte 0xa3 in position 2: invalid start byte",
     "output_type": "error",
     "traceback": [
      "\u001b[0;31m---------------------------------------------------------------------------\u001b[0m",
      "\u001b[0;31mUnicodeDecodeError\u001b[0m                        Traceback (most recent call last)",
      "Cell \u001b[0;32mIn[4], line 2\u001b[0m\n\u001b[1;32m      1\u001b[0m \u001b[38;5;28;01mwith\u001b[39;00m \u001b[38;5;28mopen\u001b[39m(\u001b[38;5;124m'\u001b[39m\u001b[38;5;124mDocuments/example_iso.txt\u001b[39m\u001b[38;5;124m'\u001b[39m) \u001b[38;5;28;01mas\u001b[39;00m file:\n\u001b[0;32m----> 2\u001b[0m     \u001b[38;5;28mprint\u001b[39m(file\u001b[38;5;241m.\u001b[39mread())\n",
      "File \u001b[0;32m<frozen codecs>:322\u001b[0m, in \u001b[0;36mdecode\u001b[0;34m(self, input, final)\u001b[0m\n",
      "\u001b[0;31mUnicodeDecodeError\u001b[0m: 'utf-8' codec can't decode byte 0xa3 in position 2: invalid start byte"
     ]
    }
   ],
   "source": [
    "with open('Documents/example_iso.txt') as file:\n",
    "    print(file.read())"
   ]
  },
  {
   "cell_type": "code",
   "execution_count": 5,
   "id": "93f7b73d",
   "metadata": {},
   "outputs": [],
   "source": [
    "# Open the ISO with the appropiate encoding "
   ]
  },
  {
   "cell_type": "code",
   "execution_count": 7,
   "id": "17543ac6",
   "metadata": {},
   "outputs": [
    {
     "name": "stdout",
     "output_type": "stream",
     "text": [
      "20£\n"
     ]
    }
   ],
   "source": [
    "with open('Documents/example_iso.txt', encoding='iso-8859-1') as file:\n",
    "    print(file.read())"
   ]
  },
  {
   "cell_type": "code",
   "execution_count": 9,
   "id": "a56f54e7",
   "metadata": {},
   "outputs": [],
   "source": [
    "# Open the UTF8 file and save its contents in a iso 8859 file \n",
    "\n",
    "with open('Documents/example_utf8.txt') as file:\n",
    "    content = file.read()\n",
    "    \n",
    "with open('Documents/example_utf8_output.txt', 'w', encoding='iso-8859-1') as file:\n",
    "    file.write(content)"
   ]
  },
  {
   "cell_type": "code",
   "execution_count": 10,
   "id": "82bf4f61",
   "metadata": {},
   "outputs": [
    {
     "name": "stdout",
     "output_type": "stream",
     "text": [
      "20£\n",
      "\n"
     ]
    }
   ],
   "source": [
    "with open('Documents/example_utf8_output.txt', encoding='iso-8859-1') as file:\n",
    "    print(file.read())"
   ]
  },
  {
   "cell_type": "markdown",
   "id": "79ffc6cb",
   "metadata": {},
   "source": [
    "#### More\n",
    "If you don't know the encoding of the file, BeautifulSoup can make a guess about it"
   ]
  },
  {
   "cell_type": "code",
   "execution_count": 13,
   "id": "190a453f",
   "metadata": {},
   "outputs": [
    {
     "data": {
      "text/plain": [
       "'iso-8859-1'"
      ]
     },
     "execution_count": 13,
     "metadata": {},
     "output_type": "execute_result"
    }
   ],
   "source": [
    "from bs4 import UnicodeDammit \n",
    "\n",
    "with open('Documents/example_utf8_output.txt', 'rb') as file:\n",
    "    content = file.read()\n",
    "    \n",
    "sugestion = UnicodeDammit(content)\n",
    "sugestion.original_encoding"
   ]
  },
  {
   "cell_type": "code",
   "execution_count": 14,
   "id": "71290f37",
   "metadata": {},
   "outputs": [
    {
     "data": {
      "text/plain": [
       "'20£\\n'"
      ]
     },
     "execution_count": 14,
     "metadata": {},
     "output_type": "execute_result"
    }
   ],
   "source": [
    "sugestion.unicode_markup"
   ]
  },
  {
   "cell_type": "code",
   "execution_count": 15,
   "id": "0cb6bde8",
   "metadata": {},
   "outputs": [
    {
     "name": "stdout",
     "output_type": "stream",
     "text": [
      "['Rank', 'Admissions\\n(millions)', 'Title (year) (studio)', 'Director(s)']\n",
      "['1', '225.7', 'Gone With the Wind (1939)\\xa0(MGM)', 'Victor Fleming, George Cukor, Sam Wood']\n",
      "['2', '194.4', 'Star Wars (Ep. IV: A New Hope) (1977)\\xa0(Fox)', 'George Lucas']\n",
      "['3', '161.0', 'ET: The Extra-Terrestrial (1982)\\xa0(Univ)', 'Steven Spielberg']\n",
      "['4', '156.4', 'The Sound of Music (1965)\\xa0(Fox)', 'Robert Wise']\n",
      "['5', '130.0', 'The Ten Commandments (1956)\\xa0(Para)', 'Cecil B. DeMille']\n",
      "['6', '128.4', 'Titanic (1997)\\xa0(Fox)', 'James Cameron']\n",
      "['7', '126.3', 'Snow White and the Seven Dwarfs (1937)\\xa0(BV)', 'David Hand']\n",
      "['8', '120.7', 'Jaws (1975)\\xa0(Univ)', 'Steven Spielberg']\n",
      "['9', '120.1', 'Doctor Zhivago (1965)\\xa0(MGM)', 'David Lean']\n",
      "['10', '118.9', 'The Lion King (1994)\\xa0(BV)', 'Roger Allers, Rob Minkoff']\n"
     ]
    }
   ],
   "source": [
    "import csv\n",
    "\n",
    "with open('Documents/top_films.csv') as file:\n",
    "    data = csv.reader(file)\n",
    "    \n",
    "    for row in data:\n",
    "        print(row)"
   ]
  },
  {
   "cell_type": "code",
   "execution_count": 20,
   "id": "e01aaaa6",
   "metadata": {},
   "outputs": [],
   "source": [
    "with open(\"Documents/top_films.csv\") as file:\n",
    "    data = csv.DictReader(file)\n",
    "    structured_data = [row for row in data]"
   ]
  },
  {
   "cell_type": "code",
   "execution_count": 21,
   "id": "7b616de9",
   "metadata": {},
   "outputs": [
    {
     "data": {
      "text/plain": [
       "{'Rank': '1',\n",
       " 'Admissions\\n(millions)': '225.7',\n",
       " 'Title (year) (studio)': 'Gone With the Wind (1939)\\xa0(MGM)',\n",
       " 'Director(s)': 'Victor Fleming, George Cukor, Sam Wood'}"
      ]
     },
     "execution_count": 21,
     "metadata": {},
     "output_type": "execute_result"
    }
   ],
   "source": [
    "structured_data[0]"
   ]
  },
  {
   "cell_type": "code",
   "execution_count": 23,
   "id": "ecd74652",
   "metadata": {},
   "outputs": [
    {
     "data": {
      "text/plain": [
       "dict_keys(['Rank', 'Admissions\\n(millions)', 'Title (year) (studio)', 'Director(s)'])"
      ]
     },
     "execution_count": 23,
     "metadata": {},
     "output_type": "execute_result"
    }
   ],
   "source": [
    "structured_data[0].keys()"
   ]
  },
  {
   "cell_type": "code",
   "execution_count": 29,
   "id": "dcbc59bb",
   "metadata": {},
   "outputs": [
    {
     "data": {
      "text/plain": [
       "'1'"
      ]
     },
     "execution_count": 29,
     "metadata": {},
     "output_type": "execute_result"
    }
   ],
   "source": [
    "structured_data[0]['Rank']"
   ]
  },
  {
   "cell_type": "markdown",
   "id": "6bfe4a9c",
   "metadata": {},
   "source": [
    "#### More : Introducing dialects"
   ]
  },
  {
   "cell_type": "code",
   "execution_count": 35,
   "id": "91742ab3",
   "metadata": {},
   "outputs": [],
   "source": [
    "with open('Documents/top_films.csv' , newline='') as file:\n",
    "    dialect = csv.Sniffer().sniff(file.read())"
   ]
  },
  {
   "cell_type": "code",
   "execution_count": 36,
   "id": "f03f8de0",
   "metadata": {},
   "outputs": [
    {
     "name": "stdout",
     "output_type": "stream",
     "text": [
      "['Rank', 'Admissions\\n(millions)', 'Title (year) (studio)', 'Director(s)']\n",
      "['1', '225.7', 'Gone With the Wind (1939)\\xa0(MGM)', 'Victor Fleming, George Cukor, Sam Wood']\n",
      "['2', '194.4', 'Star Wars (Ep. IV: A New Hope) (1977)\\xa0(Fox)', 'George Lucas']\n",
      "['3', '161.0', 'ET: The Extra-Terrestrial (1982)\\xa0(Univ)', 'Steven Spielberg']\n",
      "['4', '156.4', 'The Sound of Music (1965)\\xa0(Fox)', 'Robert Wise']\n",
      "['5', '130.0', 'The Ten Commandments (1956)\\xa0(Para)', 'Cecil B. DeMille']\n",
      "['6', '128.4', 'Titanic (1997)\\xa0(Fox)', 'James Cameron']\n",
      "['7', '126.3', 'Snow White and the Seven Dwarfs (1937)\\xa0(BV)', 'David Hand']\n",
      "['8', '120.7', 'Jaws (1975)\\xa0(Univ)', 'Steven Spielberg']\n",
      "['9', '120.1', 'Doctor Zhivago (1965)\\xa0(MGM)', 'David Lean']\n",
      "['10', '118.9', 'The Lion King (1994)\\xa0(BV)', 'Roger Allers, Rob Minkoff']\n"
     ]
    }
   ],
   "source": [
    "with open(\"Documents/top_films.csv\", newline='') as file:\n",
    "    reader = csv.reader(file, dialect)\n",
    "    for row in reader:\n",
    "        print(row)"
   ]
  },
  {
   "cell_type": "code",
   "execution_count": null,
   "id": "15c675c2",
   "metadata": {},
   "outputs": [],
   "source": []
  }
 ],
 "metadata": {
  "kernelspec": {
   "display_name": "Python 3 (ipykernel)",
   "language": "python",
   "name": "python3"
  },
  "language_info": {
   "codemirror_mode": {
    "name": "ipython",
    "version": 3
   },
   "file_extension": ".py",
   "mimetype": "text/x-python",
   "name": "python",
   "nbconvert_exporter": "python",
   "pygments_lexer": "ipython3",
   "version": "3.11.5"
  }
 },
 "nbformat": 4,
 "nbformat_minor": 5
}

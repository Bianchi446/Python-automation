{
 "cells": [
  {
   "cell_type": "code",
   "execution_count": 6,
   "id": "3ce1ea8d",
   "metadata": {},
   "outputs": [],
   "source": [
    "# Reading metadata from file such as : Filename, size or date"
   ]
  },
  {
   "cell_type": "code",
   "execution_count": 7,
   "id": "fc50697a",
   "metadata": {},
   "outputs": [],
   "source": [
    "# Import OS and datetime\n",
    "\n",
    "import os \n",
    "from datetime import datetime"
   ]
  },
  {
   "cell_type": "code",
   "execution_count": 8,
   "id": "f9413491",
   "metadata": {},
   "outputs": [
    {
     "data": {
      "text/plain": [
       "os.stat_result(st_mode=33204, st_ino=2764547, st_dev=2066, st_nlink=1, st_uid=1000, st_gid=1000, st_size=822, st_atime=1706630396, st_mtime=1706630287, st_ctime=1706630287)"
      ]
     },
     "execution_count": 8,
     "metadata": {},
     "output_type": "execute_result"
    }
   ],
   "source": [
    "# Retrieve the stats of the file\n",
    "\n",
    "stats = os.stat(('Documents/zen_of_python'))\n",
    "stats"
   ]
  },
  {
   "cell_type": "code",
   "execution_count": 10,
   "id": "5b5f4914",
   "metadata": {},
   "outputs": [
    {
     "data": {
      "text/plain": [
       "822"
      ]
     },
     "execution_count": 10,
     "metadata": {},
     "output_type": "execute_result"
    }
   ],
   "source": [
    "# checking size of the file \n",
    "\n",
    "stats.st_size"
   ]
  },
  {
   "cell_type": "code",
   "execution_count": 13,
   "id": "ca92847c",
   "metadata": {},
   "outputs": [
    {
     "data": {
      "text/plain": [
       "datetime.datetime(2024, 1, 30, 12, 58, 7, 330634)"
      ]
     },
     "execution_count": 13,
     "metadata": {},
     "output_type": "execute_result"
    }
   ],
   "source": [
    "# Obtain when the file was last modified \n",
    "\n",
    "datetime.fromtimestamp(stats.st_mtime)"
   ]
  },
  {
   "cell_type": "code",
   "execution_count": 14,
   "id": "819c6d10",
   "metadata": {},
   "outputs": [
    {
     "data": {
      "text/plain": [
       "datetime.datetime(2024, 1, 30, 12, 59, 56, 796642)"
      ]
     },
     "execution_count": 14,
     "metadata": {},
     "output_type": "execute_result"
    }
   ],
   "source": [
    "# Obtain when the file was last accesed \n",
    "\n",
    "datetime.fromtimestamp(stats.st_atime)"
   ]
  },
  {
   "cell_type": "markdown",
   "id": "93175efb",
   "metadata": {},
   "source": [
    "#### More : Investigate the os.stat method to check other type of information you can retrieve from files"
   ]
  },
  {
   "cell_type": "code",
   "execution_count": null,
   "id": "c7ff3a98",
   "metadata": {},
   "outputs": [],
   "source": []
  }
 ],
 "metadata": {
  "kernelspec": {
   "display_name": "Python 3 (ipykernel)",
   "language": "python",
   "name": "python3"
  },
  "language_info": {
   "codemirror_mode": {
    "name": "ipython",
    "version": 3
   },
   "file_extension": ".py",
   "mimetype": "text/x-python",
   "name": "python",
   "nbconvert_exporter": "python",
   "pygments_lexer": "ipython3",
   "version": "3.11.5"
  }
 },
 "nbformat": 4,
 "nbformat_minor": 5
}

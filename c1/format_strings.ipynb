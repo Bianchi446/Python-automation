{
 "cells": [
  {
   "cell_type": "markdown",
   "id": "c126429e",
   "metadata": {},
   "source": [
    "The template constant defines three columns \n",
    "\n",
    "• revenue adds a thousands separator with the , symbol—[{revenue:>7,}].\n",
    "\n",
    "• profit adds a + sign for positive values. A - sign for negatives is added\n",
    "automatically—[{profit:>+7}].\n",
    "\n",
    "• percent displays a percent value with a precision of two decimal places—\n",
    "[{percent:>7.2%}]. This is done through .2 (precision) and adding a %\n",
    "symbol for the percentage."
   ]
  },
  {
   "cell_type": "code",
   "execution_count": 1,
   "id": "d1e835ff",
   "metadata": {},
   "outputs": [
    {
     "name": "stdout",
     "output_type": "stream",
     "text": [
      "Revenue | Profit | Percent\n",
      "  2,000 |   +10 | 0.5000%\n",
      "  2,000 |   +17 | 0.8500%\n",
      "  2,500 |  +170 | 6.8000%\n",
      "  2,500 |  -170 | -6.8000%\n"
     ]
    }
   ],
   "source": [
    "data = [\n",
    "    (2000, 10),\n",
    "    (2000, 17),\n",
    "    (2500, 170),\n",
    "    (2500, -170)\n",
    "]\n",
    "\n",
    "print(\"Revenue | Profit | Percent\")\n",
    "\n",
    "TEMPLATE = '{revenue:>7,} | {profit:>+5,} | {percent:7.4%}'\n",
    "\n",
    "for revenue, profit in data:\n",
    "    row = TEMPLATE.format(revenue=revenue, profit=profit, percent = profit / revenue)\n",
    "    print(row)"
   ]
  },
  {
   "cell_type": "code",
   "execution_count": 2,
   "id": "46a03b6e",
   "metadata": {},
   "outputs": [],
   "source": [
    "# f-strings "
   ]
  },
  {
   "cell_type": "code",
   "execution_count": 3,
   "id": "7615f186",
   "metadata": {},
   "outputs": [
    {
     "data": {
      "text/plain": [
       "'Parameters first:second'"
      ]
     },
     "execution_count": 3,
     "metadata": {},
     "output_type": "execute_result"
    }
   ],
   "source": [
    "param1 = 'first'\n",
    "param2 = 'second'\n",
    "f'Parameters {param1}:{param2}'"
   ]
  },
  {
   "cell_type": "markdown",
   "id": "9febf706",
   "metadata": {},
   "source": [
    "### Manipulating strings \n",
    "\n",
    "Problem : When dealing with text, it's often necessary to manipulate and process it; that is,\n",
    "to be able to join it, split it into regular chunks, or change it to be uppercase or\n",
    "lowercase.\n",
    "\n",
    "Example : A report needs to be transformed into a new format to be sent via email "
   ]
  },
  {
   "cell_type": "code",
   "execution_count": 4,
   "id": "de8c3eb8",
   "metadata": {},
   "outputs": [
    {
     "ename": "NameError",
     "evalue": "name 'word' is not defined",
     "output_type": "error",
     "traceback": [
      "\u001b[0;31m---------------------------------------------------------------------------\u001b[0m",
      "\u001b[0;31mNameError\u001b[0m                                 Traceback (most recent call last)",
      "Cell \u001b[0;32mIn[4], line 36\u001b[0m\n\u001b[1;32m     33\u001b[0m lines \u001b[38;5;241m=\u001b[39m []\n\u001b[1;32m     34\u001b[0m line \u001b[38;5;241m=\u001b[39m \u001b[38;5;124m'\u001b[39m\u001b[38;5;124m'\u001b[39m\n\u001b[0;32m---> 36\u001b[0m \u001b[38;5;28;01mif\u001b[39;00m line\u001b[38;5;241m.\u001b[39mendswith(\u001b[38;5;124m'\u001b[39m\u001b[38;5;130;01m\\n\u001b[39;00m\u001b[38;5;124m'\u001b[39m) \u001b[38;5;129;01mor\u001b[39;00m \u001b[38;5;28mlen\u001b[39m(line) \u001b[38;5;241m+\u001b[39m \u001b[38;5;28mlen\u001b[39m(word) \u001b[38;5;241m+\u001b[39m \u001b[38;5;241m1\u001b[39m \u001b[38;5;241m>\u001b[39m LINE_SIZE:\n\u001b[1;32m     37\u001b[0m     lines\u001b[38;5;241m.\u001b[39mappend(line)\n\u001b[1;32m     38\u001b[0m     line \u001b[38;5;241m=\u001b[39m \u001b[38;5;124m'\u001b[39m\u001b[38;5;124m'\u001b[39m\n",
      "\u001b[0;31mNameError\u001b[0m: name 'word' is not defined"
     ]
    }
   ],
   "source": [
    "INPUT_TEXT = ''' AFTER THE CLOSE OF THE SECOND QUARTER, OUR COMPANY, CASTAÑACORP\n",
    "HAS ACHIEVED A GROWTH IN THE REVENUE OF 7.47%. THIS IS IN LINE\n",
    "WITH THE OBJECTIVES FOR THE YEAR. THE MAIN DRIVER OF THE SALES HAS\n",
    "BEEN\n",
    "THE NEW PACKAGE DESIGNED UNDER THE SUPERVISION OF OUR MARKETING\n",
    "DEPARTMENT.\n",
    "OUR EXPENSES HAS BEEN CONTAINED, INCREASING ONLY BY 0.7%, THOUGH THE\n",
    "BOARD\n",
    "CONSIDERS IT NEEDS TO BE FURTHER REDUCED. THE EVALUATION IS\n",
    "SATISFACTORY\n",
    "AND THE FORECAST FOR THE NEXT QUARTER IS OPTIMISTIC. THE BOARD\n",
    "EXPECTS\n",
    "AN INCREASE IN PROFIT OF AT LEAST 2 MILLION DOLLARS.'''\n",
    "\n",
    "# 1. Split the text into individual words \n",
    "\n",
    "words = INPUT_TEXT.split()\n",
    "\n",
    "# 2. Replace any numerical digits with an X character :\n",
    "\n",
    "redacted = [''.join('X' if w.isdigit() else w for w in word) for word in words]\n",
    "\n",
    "# 3. Transform the text into pure ASCII \n",
    "\n",
    "ascii_text = [word.encode('ascii', errors='replace').\n",
    "decode('ascii')\n",
    "              for word in redacted]\n",
    "\n",
    "# 4. Group the words into 80 character lines \n",
    "\n",
    "newlines = [word + '\\n' if word.endswith('.') else word for word in ascii_text]\n",
    "LINE_SIZE = 80\n",
    "lines = []\n",
    "line = ''\n",
    "\n",
    "if line.endswith('\\n') or len(line) + len(word) + 1 > LINE_SIZE:\n",
    "    lines.append(line)\n",
    "    line = ''\n",
    "    line = line + word \n",
    "    \n",
    "lines = [line.title() for line in lines]\n",
    "results = '\\n'.join(lines)\n",
    "\n",
    "print(results)"
   ]
  },
  {
   "cell_type": "markdown",
   "id": "5307f7fc",
   "metadata": {},
   "source": [
    "### Extracting data from structured strings \n",
    "\n",
    "Problem : In a lot of automated tasks, we'll need to treat input text structured in a known\n",
    "format and extract the relevant information.\n",
    "\n",
    "Example : How to process sales logs that contain inline information about a product "
   ]
  },
  {
   "cell_type": "code",
   "execution_count": 36,
   "id": "07a4505c",
   "metadata": {},
   "outputs": [],
   "source": [
    "# Structure = [<timestamp in iso 8601 format>] - SALE - PRODUCT : <product id> - PRICE: $<price of the sale> \n",
    "# Example = [2018-05-05T10:58:41.504054] - SALE - PRODUCT: 1345 - PRICE: $09.99"
   ]
  },
  {
   "cell_type": "code",
   "execution_count": 8,
   "id": "bbe953d5",
   "metadata": {},
   "outputs": [
    {
     "name": "stdout",
     "output_type": "stream",
     "text": [
      "Collecting delorean\n",
      "  Using cached Delorean-1.0.0-py3-none-any.whl\n",
      "Requirement already satisfied: babel>=2.1.1 in /home/jose/anaconda3/lib/python3.11/site-packages (from delorean) (2.11.0)\n",
      "Collecting humanize>=0.5.1 (from delorean)\n",
      "  Obtaining dependency information for humanize>=0.5.1 from https://files.pythonhosted.org/packages/aa/2b/2ae0c789fd08d5b44e745726d08a17e6d3d7d09071d05473105edc7615f2/humanize-4.9.0-py3-none-any.whl.metadata\n",
      "  Using cached humanize-4.9.0-py3-none-any.whl.metadata (7.9 kB)\n",
      "Requirement already satisfied: python-dateutil>=2.4.2 in /home/jose/anaconda3/lib/python3.11/site-packages (from delorean) (2.8.2)\n",
      "Requirement already satisfied: pytz>=2015.7 in /home/jose/anaconda3/lib/python3.11/site-packages (from delorean) (2023.3.post1)\n",
      "Requirement already satisfied: tzlocal>=1.2 in /home/jose/anaconda3/lib/python3.11/site-packages (from delorean) (5.2)\n",
      "Requirement already satisfied: six>=1.5 in /home/jose/anaconda3/lib/python3.11/site-packages (from python-dateutil>=2.4.2->delorean) (1.16.0)\n",
      "Using cached humanize-4.9.0-py3-none-any.whl (126 kB)\n",
      "Installing collected packages: humanize, delorean\n",
      "Successfully installed delorean-1.0.0 humanize-4.9.0\n",
      "Note: you may need to restart the kernel to use updated packages.\n"
     ]
    }
   ],
   "source": [
    "pip install delorean"
   ]
  },
  {
   "cell_type": "code",
   "execution_count": 10,
   "id": "66fd9878",
   "metadata": {},
   "outputs": [],
   "source": [
    "# Problem : Proces a sales log that contain inline information about a product "
   ]
  },
  {
   "cell_type": "code",
   "execution_count": 26,
   "id": "2e5306e4",
   "metadata": {},
   "outputs": [],
   "source": [
    "# Import modules\n",
    "import delorean\n",
    "from decimal import Decimal \n",
    "\n",
    "# Enter the log to pase \n",
    "log = '[2018-05-05T11:07:12.267897] - SALE - PRODUCT: 1345 '\n",
    "\n",
    "# Divide the log into its subsequents parts \n",
    "\n",
    "divide_it = log.split(' - ')\n",
    "\n",
    "timestamp_string, _,  product_string = divide_it\n",
    "\n",
    "# Parse the timestamp string to a datetime object \n",
    "\n",
    "timestamp = delorean.parse(timestamp_string.strip('[]'))\n",
    "\n",
    "# Split the product string into an integer \n",
    "\n",
    "product_id = int(product_string.split(':')[-1])\n",
    "\n",
    "# Parse the sales into a decimal type \n",
    "\n",
    "\n"
   ]
  },
  {
   "cell_type": "code",
   "execution_count": 27,
   "id": "e42b301c",
   "metadata": {},
   "outputs": [
    {
     "data": {
      "text/plain": [
       "(Delorean(datetime=datetime.datetime(2018, 5, 5, 11, 7, 12, 267897), timezone='UTC'),\n",
       " 1345)"
      ]
     },
     "execution_count": 27,
     "metadata": {},
     "output_type": "execute_result"
    }
   ],
   "source": [
    "timestamp, product_id"
   ]
  },
  {
   "cell_type": "code",
   "execution_count": null,
   "id": "b4d7b4f6",
   "metadata": {},
   "outputs": [],
   "source": []
  }
 ],
 "metadata": {
  "kernelspec": {
   "display_name": "Python 3 (ipykernel)",
   "language": "python",
   "name": "python3"
  },
  "language_info": {
   "codemirror_mode": {
    "name": "ipython",
    "version": 3
   },
   "file_extension": ".py",
   "mimetype": "text/x-python",
   "name": "python",
   "nbconvert_exporter": "python",
   "pygments_lexer": "ipython3",
   "version": "3.11.5"
  }
 },
 "nbformat": 4,
 "nbformat_minor": 5
}

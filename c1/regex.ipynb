{
 "cells": [
  {
   "cell_type": "code",
   "execution_count": 2,
   "id": "ce8fcdd2",
   "metadata": {},
   "outputs": [],
   "source": [
    "# re.search() return a match object with information about what matched the pattern "
   ]
  },
  {
   "cell_type": "code",
   "execution_count": 4,
   "id": "f3d557b1",
   "metadata": {},
   "outputs": [
    {
     "ename": "SyntaxError",
     "evalue": "invalid syntax (1443350752.py, line 4)",
     "output_type": "error",
     "traceback": [
      "\u001b[0;36m  Cell \u001b[0;32mIn[4], line 4\u001b[0;36m\u001b[0m\n\u001b[0;31m    < _sre.SRE_Match object; span=(0,3), match='LOG'>\u001b[0m\n\u001b[0m    ^\u001b[0m\n\u001b[0;31mSyntaxError\u001b[0m\u001b[0;31m:\u001b[0m invalid syntax\n"
     ]
    }
   ],
   "source": [
    "import re\n",
    "\n",
    "re.search(r'LOG', 'SOME LOGS') \n",
    "< _sre.SRE_Match object; span=(0,3), match='LOG'> \n",
    "\n",
    "re.search(r'LOGS', 'LOGS')"
   ]
  },
  {
   "cell_type": "code",
   "execution_count": null,
   "id": "750d61f3",
   "metadata": {},
   "outputs": [],
   "source": []
  }
 ],
 "metadata": {
  "kernelspec": {
   "display_name": "Python 3 (ipykernel)",
   "language": "python",
   "name": "python3"
  },
  "language_info": {
   "codemirror_mode": {
    "name": "ipython",
    "version": 3
   },
   "file_extension": ".py",
   "mimetype": "text/x-python",
   "name": "python",
   "nbconvert_exporter": "python",
   "pygments_lexer": "ipython3",
   "version": "3.11.5"
  }
 },
 "nbformat": 4,
 "nbformat_minor": 5
}

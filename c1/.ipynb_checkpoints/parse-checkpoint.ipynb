{
 "cells": [
  {
   "cell_type": "code",
   "execution_count": 3,
   "id": "56a1f638",
   "metadata": {},
   "outputs": [],
   "source": [
    "# Problem : Using regular expression to parse logs"
   ]
  },
  {
   "cell_type": "code",
   "execution_count": 10,
   "id": "2c68ef2d",
   "metadata": {},
   "outputs": [],
   "source": [
    "from parse import parse\n",
    "\n",
    "log = '[2018-05-05T12:32:21.565656] - SALE - PRODUCT: 1234 - PRICE: $09.99'\n",
    "\n",
    "FORMAT = '[{date}] - SALE - PRODUCT : {product} - PRICE : ${price}'\n",
    "\n",
    "result = parse(FORMAT, log)"
   ]
  },
  {
   "cell_type": "raw",
   "id": "9a2b4d0c",
   "metadata": {},
   "source": []
  }
 ],
 "metadata": {
  "kernelspec": {
   "display_name": "Python 3 (ipykernel)",
   "language": "python",
   "name": "python3"
  },
  "language_info": {
   "codemirror_mode": {
    "name": "ipython",
    "version": 3
   },
   "file_extension": ".py",
   "mimetype": "text/x-python",
   "name": "python",
   "nbconvert_exporter": "python",
   "pygments_lexer": "ipython3",
   "version": "3.11.5"
  }
 },
 "nbformat": 4,
 "nbformat_minor": 5
}

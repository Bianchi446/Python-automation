{
 "cells": [
  {
   "cell_type": "code",
   "execution_count": 1,
   "id": "bdab288c",
   "metadata": {},
   "outputs": [
    {
     "name": "stdout",
     "output_type": "stream",
     "text": [
      "Requirement already satisfied: delorean in /home/jose/anaconda3/lib/python3.11/site-packages (1.0.0)\n",
      "Requirement already satisfied: babel>=2.1.1 in /home/jose/anaconda3/lib/python3.11/site-packages (from delorean) (2.11.0)\n",
      "Requirement already satisfied: humanize>=0.5.1 in /home/jose/anaconda3/lib/python3.11/site-packages (from delorean) (4.9.0)\n",
      "Requirement already satisfied: python-dateutil>=2.4.2 in /home/jose/anaconda3/lib/python3.11/site-packages (from delorean) (2.8.2)\n",
      "Requirement already satisfied: pytz>=2015.7 in /home/jose/anaconda3/lib/python3.11/site-packages (from delorean) (2023.3.post1)\n",
      "Requirement already satisfied: tzlocal>=1.2 in /home/jose/anaconda3/lib/python3.11/site-packages (from delorean) (5.2)\n",
      "Requirement already satisfied: six>=1.5 in /home/jose/anaconda3/lib/python3.11/site-packages (from python-dateutil>=2.4.2->delorean) (1.16.0)\n",
      "Note: you may need to restart the kernel to use updated packages.\n"
     ]
    }
   ],
   "source": [
    "pip install delorean"
   ]
  },
  {
   "cell_type": "code",
   "execution_count": 11,
   "id": "24f58155",
   "metadata": {},
   "outputs": [],
   "source": [
    "import delorean\n",
    "from decimal import Decimal\n",
    "\n",
    "sales_log = '[2028-05-05T12:34:21.267899] - SALE - PRODUCT: 1234 - PRICE: $9.99'\n",
    "\n",
    "divide_it = sales_log.split(' - ')\n",
    "\n",
    "timestamp_string, _, product_string, price_string = divide_it\n",
    "\n",
    "timestamp = delorean.parse(timestamp_string.strip('[]'))\n",
    "\n",
    "product = int(product_string.split(':')[-1])\n",
    "\n",
    "price = Decimal(price_string.split('$')[-1])"
   ]
  },
  {
   "cell_type": "code",
   "execution_count": 13,
   "id": "377ab328",
   "metadata": {},
   "outputs": [
    {
     "data": {
      "text/plain": [
       "(Delorean(datetime=datetime.datetime(2028, 5, 5, 12, 34, 21, 267899), timezone='UTC'),\n",
       " 1234,\n",
       " Decimal('9.99'))"
      ]
     },
     "execution_count": 13,
     "metadata": {},
     "output_type": "execute_result"
    }
   ],
   "source": [
    "timestamp, product, price"
   ]
  },
  {
   "cell_type": "markdown",
   "id": "79d64d1d",
   "metadata": {},
   "source": [
    "#### Combining the log elements into a single object "
   ]
  },
  {
   "cell_type": "code",
   "execution_count": 21,
   "id": "d20b66cd",
   "metadata": {},
   "outputs": [],
   "source": [
    "class Pricelog(object):\n",
    "    def __init__(self, timestamp, product, price):\n",
    "        self.timestamp = timestamp\n",
    "        self.product = product\n",
    "        self.price = price\n",
    "    def __repr__(self):\n",
    "        return '<Pricelog ({}, {}, {})>'.format(self.timestamp,\n",
    "                                                self.product,\n",
    "                                                self.price)\n",
    "    \n",
    "    @classmethod \n",
    "    def parse(cls, text_log):\n",
    "        \n",
    "        \"\"\"\n",
    "        Parse with a text log with the format\n",
    "        [<Timestamp>] - SALE - PRODUCT: <product> - PRICE: $<price> \n",
    "        to a price log object\n",
    "        \"\"\"\n",
    "        \n",
    "        divide_it = text_log.split(' - ')\n",
    "        timestamp_string, _, product_string, price_string = divide_it\n",
    "        timestamp = delorean.parse(timestamp_string.strip('[]'))\n",
    "        product = int(product_string.split(':')[-1])\n",
    "        price = Decimal(price_string.split('$')[-1])\n",
    "\n",
    "        return cls(timestamp=timestamp, product=product, price=price)"
   ]
  },
  {
   "cell_type": "code",
   "execution_count": 22,
   "id": "6d7f6f31",
   "metadata": {},
   "outputs": [
    {
     "data": {
      "text/plain": [
       "<Pricelog (Delorean(datetime=datetime.datetime(2018, 5, 5, 12, 58, 59, 998903), timezone='UTC'), 897, 17.99)>"
      ]
     },
     "execution_count": 22,
     "metadata": {},
     "output_type": "execute_result"
    }
   ],
   "source": [
    "log = '[2018-05-05T12:58:59.998903] - SALE - PRODUCT: 897 - PRICE: $17.99'\n",
    "\n",
    "Pricelog.parse(log)"
   ]
  },
  {
   "cell_type": "code",
   "execution_count": null,
   "id": "a178fe0b",
   "metadata": {},
   "outputs": [],
   "source": []
  }
 ],
 "metadata": {
  "kernelspec": {
   "display_name": "Python 3 (ipykernel)",
   "language": "python",
   "name": "python3"
  },
  "language_info": {
   "codemirror_mode": {
    "name": "ipython",
    "version": 3
   },
   "file_extension": ".py",
   "mimetype": "text/x-python",
   "name": "python",
   "nbconvert_exporter": "python",
   "pygments_lexer": "ipython3",
   "version": "3.11.5"
  }
 },
 "nbformat": 4,
 "nbformat_minor": 5
}

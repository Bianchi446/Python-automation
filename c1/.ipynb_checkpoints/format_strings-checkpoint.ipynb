{
 "cells": [
  {
   "cell_type": "markdown",
   "id": "801fd39b",
   "metadata": {},
   "source": [
    "The template constant defines three columns \n",
    "\n",
    "• revenue adds a thousands separator with the , symbol—[{revenue:>7,}].\n",
    "\n",
    "• profit adds a + sign for positive values. A - sign for negatives is added\n",
    "automatically—[{profit:>+7}].\n",
    "\n",
    "• percent displays a percent value with a precision of two decimal places—\n",
    "[{percent:>7.2%}]. This is done through .2 (precision) and adding a %\n",
    "symbol for the percentage."
   ]
  },
  {
   "cell_type": "code",
   "execution_count": 10,
   "id": "bca4568a",
   "metadata": {},
   "outputs": [
    {
     "name": "stdout",
     "output_type": "stream",
     "text": [
      "Revenue | Profit | Percent\n",
      "  2,000 |   +10 | 0.5000%\n",
      "  2,000 |   +17 | 0.8500%\n",
      "  2,500 |  +170 | 6.8000%\n",
      "  2,500 |  -170 | -6.8000%\n"
     ]
    }
   ],
   "source": [
    "data = [\n",
    "    (2000, 10),\n",
    "    (2000, 17),\n",
    "    (2500, 170),\n",
    "    (2500, -170)\n",
    "]\n",
    "\n",
    "print(\"Revenue | Profit | Percent\")\n",
    "\n",
    "TEMPLATE = '{revenue:>7,} | {profit:>+5,} | {percent:7.4%}'\n",
    "\n",
    "for revenue, profit in data:\n",
    "    row = TEMPLATE.format(revenue=revenue, profit=profit, percent = profit / revenue)\n",
    "    print(row)"
   ]
  },
  {
   "cell_type": "code",
   "execution_count": null,
   "id": "e13b60ef",
   "metadata": {},
   "outputs": [],
   "source": [
    "# f-strings "
   ]
  },
  {
   "cell_type": "code",
   "execution_count": 11,
   "id": "98b5ba6b",
   "metadata": {},
   "outputs": [
    {
     "data": {
      "text/plain": [
       "'Parameters first:second'"
      ]
     },
     "execution_count": 11,
     "metadata": {},
     "output_type": "execute_result"
    }
   ],
   "source": [
    "param1 = 'first'\n",
    "param2 = 'second'\n",
    "f'Parameters {param1}:{param2}'"
   ]
  },
  {
   "cell_type": "markdown",
   "id": "2a7fd2c8",
   "metadata": {},
   "source": [
    "### Manipulating strings \n",
    "\n",
    "Problem : When dealing with text, it's often necessary to manipulate and process it; that is,\n",
    "to be able to join it, split it into regular chunks, or change it to be uppercase or\n",
    "lowercase.\n",
    "\n",
    "Example : A report needs to be transformed into a new format to be sent via email "
   ]
  },
  {
   "cell_type": "code",
   "execution_count": 29,
   "id": "e3eed98a",
   "metadata": {},
   "outputs": [
    {
     "ename": "IndentationError",
     "evalue": "unexpected indent (2440107118.py, line 39)",
     "output_type": "error",
     "traceback": [
      "\u001b[0;36m  Cell \u001b[0;32mIn[29], line 39\u001b[0;36m\u001b[0m\n\u001b[0;31m    line = line + ' ' + word\u001b[0m\n\u001b[0m    ^\u001b[0m\n\u001b[0;31mIndentationError\u001b[0m\u001b[0;31m:\u001b[0m unexpected indent\n"
     ]
    }
   ],
   "source": [
    "INPUT_TEXT = ''' AFTER THE CLOSE OF THE SECOND QUARTER, OUR COMPANY, CASTAÑACORP\n",
    "HAS ACHIEVED A GROWTH IN THE REVENUE OF 7.47%. THIS IS IN LINE\n",
    "WITH THE OBJECTIVES FOR THE YEAR. THE MAIN DRIVER OF THE SALES HAS\n",
    "BEEN\n",
    "THE NEW PACKAGE DESIGNED UNDER THE SUPERVISION OF OUR MARKETING\n",
    "DEPARTMENT.\n",
    "OUR EXPENSES HAS BEEN CONTAINED, INCREASING ONLY BY 0.7%, THOUGH THE\n",
    "BOARD\n",
    "CONSIDERS IT NEEDS TO BE FURTHER REDUCED. THE EVALUATION IS\n",
    "SATISFACTORY\n",
    "AND THE FORECAST FOR THE NEXT QUARTER IS OPTIMISTIC. THE BOARD\n",
    "EXPECTS\n",
    "AN INCREASE IN PROFIT OF AT LEAST 2 MILLION DOLLARS.'''\n",
    "\n",
    "# 1. Split the text into individual words \n",
    "\n",
    "words = INPUT_TEXT.split()\n",
    "\n",
    "# 2. Replace any numerical digits with an X character :\n",
    "\n",
    "redacted = [''.join('X' if w.isdigit() else w for w in word) for word in words]\n",
    "\n",
    "# 3. Transform the text into pure ASCII \n",
    "\n",
    "ascii_text = [word.encode('ascii', errors='replace').\n",
    "decode('ascii')\n",
    "              for word in redacted]\n",
    "\n",
    "# 4. Group the words into 80 character lines \n",
    "\n",
    "newlines = [word + '\\n' if word.endswith('.') else word for word in ascii_text]\n",
    "LINE_SIZE = 80\n",
    "lines = []\n",
    "line = ''\n",
    "\n",
    "if line.endswith('\\n') or len(line) + len(word) + 1 > LINE_SIZE:\n",
    "            lines.append(line)\n",
    "            line = ''\n",
    "        line = line + ' ' + word\n",
    "    \n",
    "# Format all the lines as titles and join them as a single piece of text \n",
    "\n",
    "lines = [line.title() for line in lines]\n",
    "result = '\\n'.join(lines)\n",
    "\n",
    "print(result)"
   ]
  },
  {
   "cell_type": "code",
   "execution_count": null,
   "id": "1b30b9b7",
   "metadata": {},
   "outputs": [],
   "source": []
  }
 ],
 "metadata": {
  "kernelspec": {
   "display_name": "Python 3 (ipykernel)",
   "language": "python",
   "name": "python3"
  },
  "language_info": {
   "codemirror_mode": {
    "name": "ipython",
    "version": 3
   },
   "file_extension": ".py",
   "mimetype": "text/x-python",
   "name": "python",
   "nbconvert_exporter": "python",
   "pygments_lexer": "ipython3",
   "version": "3.11.5"
  }
 },
 "nbformat": 4,
 "nbformat_minor": 5
}

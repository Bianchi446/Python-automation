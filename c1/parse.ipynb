{
 "cells": [
  {
   "cell_type": "code",
   "execution_count": 3,
   "id": "e4665ba8",
   "metadata": {},
   "outputs": [],
   "source": [
    "# Problem : Using regular expression to parse logs"
   ]
  },
  {
   "cell_type": "code",
   "execution_count": 16,
   "id": "3cf869a3",
   "metadata": {},
   "outputs": [],
   "source": [
    "from parse import parse\n",
    "\n",
    "LOG = '[2018-05-06T12:58:00.714611] - SALE - PRODUCT: 1345 - PRICE: $09.99'\n",
    "\n",
    "FORMAT = '[{date}] - SALE - PRODUCT: {product} - PRICE: ${price}'\n",
    "\n",
    "result = parse(FORMAT, LOG)"
   ]
  },
  {
   "cell_type": "code",
   "execution_count": 17,
   "id": "bcde4681",
   "metadata": {},
   "outputs": [
    {
     "data": {
      "text/plain": [
       "<Result () {'date': '2018-05-06T12:58:00.714611', 'product': '1345', 'price': '09.99'}>"
      ]
     },
     "execution_count": 17,
     "metadata": {},
     "output_type": "execute_result"
    }
   ],
   "source": [
    "result"
   ]
  },
  {
   "cell_type": "code",
   "execution_count": 15,
   "id": "87c95b13",
   "metadata": {},
   "outputs": [
    {
     "data": {
      "text/plain": [
       "'2018-05-06T12:58:00.714611'"
      ]
     },
     "execution_count": 15,
     "metadata": {},
     "output_type": "execute_result"
    }
   ],
   "source": [
    "result['date']"
   ]
  },
  {
   "cell_type": "code",
   "execution_count": 18,
   "id": "f01e5973",
   "metadata": {},
   "outputs": [
    {
     "data": {
      "text/plain": [
       "'1345'"
      ]
     },
     "execution_count": 18,
     "metadata": {},
     "output_type": "execute_result"
    }
   ],
   "source": [
    "result['product']"
   ]
  },
  {
   "cell_type": "code",
   "execution_count": 19,
   "id": "d433dadb",
   "metadata": {},
   "outputs": [
    {
     "data": {
      "text/plain": [
       "'09.99'"
      ]
     },
     "execution_count": 19,
     "metadata": {},
     "output_type": "execute_result"
    }
   ],
   "source": [
    "result['price']"
   ]
  },
  {
   "cell_type": "code",
   "execution_count": 24,
   "id": "036c40bb",
   "metadata": {},
   "outputs": [],
   "source": [
    "FORMAT = '[{date:ti}] - SALE - PRODUCT: {product:d} - PRICE: ${price:05.2f}'\n",
    "\n",
    "result = parse(FORMAT, LOG)"
   ]
  },
  {
   "cell_type": "code",
   "execution_count": 25,
   "id": "d9ed1337",
   "metadata": {},
   "outputs": [
    {
     "data": {
      "text/plain": [
       "<Result () {'date': datetime.datetime(2018, 5, 6, 12, 58, 0, 714611), 'product': 1345, 'price': 9.99}>"
      ]
     },
     "execution_count": 25,
     "metadata": {},
     "output_type": "execute_result"
    }
   ],
   "source": [
    "result"
   ]
  },
  {
   "cell_type": "code",
   "execution_count": 31,
   "id": "c3f2bc10",
   "metadata": {},
   "outputs": [
    {
     "data": {
      "text/plain": [
       "<Result () {'date': datetime.datetime(2018, 5, 6, 12, 58, 0, 714611), 'product': 1345, 'price': Decimal('9.99')}>"
      ]
     },
     "execution_count": 31,
     "metadata": {},
     "output_type": "execute_result"
    }
   ],
   "source": [
    "from decimal import Decimal\n",
    "\n",
    "# Define a custom type to avoid problems with the float type \n",
    "\n",
    "def price(string):\n",
    "    return Decimal(string)\n",
    "\n",
    "FORMAT = '[{date:ti}] - SALE - PRODUCT: {product:d} - PRICE: ${price:price}'\n",
    "\n",
    "result = parse(FORMAT, LOG, {'price' : price})\n",
    "\n",
    "result"
   ]
  },
  {
   "cell_type": "code",
   "execution_count": 44,
   "id": "47d75d7b",
   "metadata": {},
   "outputs": [],
   "source": [
    "from parse import parse \n",
    "import delorean \n",
    "from decimal import Decimal \n",
    "\n",
    "class PriceLog(object):\n",
    "    def __init__(self, timestamp, product, price):\n",
    "        self.timestamp = timestamp\n",
    "        self.product = product\n",
    "        self.price = price \n",
    "        \n",
    "    def __repr__(self):\n",
    "        return '<Pricelog ({}, {}, {})>'.format(self.timestamp, self.product, self.price)\n",
    "\n",
    "    @classmethod\n",
    "    def parse(cls, text_log):\n",
    "    \n",
    "        '''\n",
    "        Parse from a log with the format \n",
    "        [<Timestamp>] - SALE - PRODUCT: <product> - PRICE : $<price>\n",
    "        to a price log object\n",
    "        '''\n",
    "    \n",
    "        def price(string):\n",
    "            return Decimal(string)\n",
    "        def isodate(string):\n",
    "            return delorean.parse(string)\n",
    "            FORMAT = ('[{timestamp:isodate}] - SALE - PRODUCT: {product:d}-' 'PRICE: ${price:price}')\n",
    "            formats = {'price' : price, 'isodate' : isodate}\n",
    "            result = parse.parse(FORMAT, text_log, formats)\n",
    "            return cls(timestamp=result['timestamp'], product=result['product'], price=result['price'])\n"
   ]
  },
  {
   "cell_type": "code",
   "execution_count": 46,
   "id": "5a21085b",
   "metadata": {},
   "outputs": [],
   "source": [
    "log = '[2018-05-06T14:58:59.051545] - SALE - PRODUCT: 827 - PRICE: $22.25'\n",
    "\n",
    "PriceLog.parse(log)"
   ]
  },
  {
   "cell_type": "code",
   "execution_count": null,
   "id": "64addd98",
   "metadata": {},
   "outputs": [],
   "source": []
  }
 ],
 "metadata": {
  "kernelspec": {
   "display_name": "Python 3 (ipykernel)",
   "language": "python",
   "name": "python3"
  },
  "language_info": {
   "codemirror_mode": {
    "name": "ipython",
    "version": 3
   },
   "file_extension": ".py",
   "mimetype": "text/x-python",
   "name": "python",
   "nbconvert_exporter": "python",
   "pygments_lexer": "ipython3",
   "version": "3.11.5"
  }
 },
 "nbformat": 4,
 "nbformat_minor": 5
}

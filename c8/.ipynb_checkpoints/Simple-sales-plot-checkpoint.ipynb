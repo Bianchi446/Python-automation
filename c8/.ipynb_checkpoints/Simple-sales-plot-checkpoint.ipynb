{
 "cells": [
  {
   "cell_type": "code",
   "execution_count": 1,
   "id": "847a49de",
   "metadata": {},
   "outputs": [
    {
     "name": "stdout",
     "output_type": "stream",
     "text": [
      "Collecting matplotlib==3.2.1 (from -r requirements.txt (line 1))\n",
      "  Downloading matplotlib-3.2.1.tar.gz (40.3 MB)\n",
      "\u001b[2K     \u001b[38;2;114;156;31m━━━━━━━━━━━━━━━━━━━━━━━━━━━━━━━━━━━━━━━━\u001b[0m \u001b[32m40.3/40.3 MB\u001b[0m \u001b[31m2.4 MB/s\u001b[0m eta \u001b[36m0:00:00\u001b[0mm eta \u001b[36m0:00:01\u001b[0m[36m0:00:01\u001b[0m\n",
      "\u001b[?25h  Preparing metadata (setup.py) ... \u001b[?25ldone\n",
      "\u001b[?25hRequirement already satisfied: cycler>=0.10 in /home/jose/anaconda3/lib/python3.11/site-packages (from matplotlib==3.2.1->-r requirements.txt (line 1)) (0.11.0)\n",
      "Requirement already satisfied: kiwisolver>=1.0.1 in /home/jose/anaconda3/lib/python3.11/site-packages (from matplotlib==3.2.1->-r requirements.txt (line 1)) (1.4.4)\n",
      "Requirement already satisfied: numpy>=1.11 in /home/jose/anaconda3/lib/python3.11/site-packages (from matplotlib==3.2.1->-r requirements.txt (line 1)) (1.24.3)\n",
      "Requirement already satisfied: pyparsing!=2.0.4,!=2.1.2,!=2.1.6,>=2.0.1 in /home/jose/anaconda3/lib/python3.11/site-packages (from matplotlib==3.2.1->-r requirements.txt (line 1)) (3.0.9)\n",
      "Requirement already satisfied: python-dateutil>=2.1 in /home/jose/anaconda3/lib/python3.11/site-packages (from matplotlib==3.2.1->-r requirements.txt (line 1)) (2.8.2)\n",
      "Requirement already satisfied: six>=1.5 in /home/jose/anaconda3/lib/python3.11/site-packages (from python-dateutil>=2.1->matplotlib==3.2.1->-r requirements.txt (line 1)) (1.16.0)\n",
      "Building wheels for collected packages: matplotlib\n",
      "  Building wheel for matplotlib (setup.py) ... \u001b[?25ldone\n",
      "\u001b[?25h  Created wheel for matplotlib: filename=matplotlib-3.2.1-cp311-cp311-linux_x86_64.whl size=8618254 sha256=e0fdf1c0b9ce97d30a6ae4a722a82d06cac631a8e11d85e523853b5f8c55b2aa\n",
      "  Stored in directory: /home/jose/.cache/pip/wheels/17/44/3a/7a95f87cebadde6266c61ef15ff0d12b363d7ef2c69d6646fa\n",
      "Successfully built matplotlib\n",
      "Installing collected packages: matplotlib\n",
      "  Attempting uninstall: matplotlib\n",
      "    Found existing installation: matplotlib 3.7.2\n",
      "    Uninstalling matplotlib-3.7.2:\n",
      "      Successfully uninstalled matplotlib-3.7.2\n",
      "Successfully installed matplotlib-3.2.1\n",
      "Note: you may need to restart the kernel to use updated packages.\n"
     ]
    }
   ],
   "source": [
    "\n",
    "\n",
    "pip install -r requirements.txt"
   ]
  },
  {
   "cell_type": "code",
   "execution_count": 11,
   "id": "563f29e2",
   "metadata": {},
   "outputs": [],
   "source": [
    "# 1. Import module \n",
    "\n",
    "import matplotlib.pyplot as plt"
   ]
  },
  {
   "cell_type": "code",
   "execution_count": 12,
   "id": "76464165",
   "metadata": {},
   "outputs": [],
   "source": [
    "# 2. Create data\n",
    "\n",
    "DATA = (\n",
    "    ('Q1 2017', 100),\n",
    "    ('Q2 2017', 150),\n",
    "    ('Q3 2017', 125),\n",
    "    ('Q4 2017', 175),\n",
    ")"
   ]
  },
  {
   "cell_type": "code",
   "execution_count": 13,
   "id": "c99ea4e8",
   "metadata": {},
   "outputs": [
    {
     "data": {
      "text/plain": [
       "[0, 1, 2, 3]"
      ]
     },
     "execution_count": 13,
     "metadata": {},
     "output_type": "execute_result"
    }
   ],
   "source": [
    "# 3. Split data into a suitable format for the graph \n",
    "\n",
    "POS = list(range(len(DATA)))\n",
    "POS"
   ]
  },
  {
   "cell_type": "code",
   "execution_count": 18,
   "id": "53aa7915",
   "metadata": {},
   "outputs": [],
   "source": [
    "VALUES = [value for label, value in DATA]\n",
    "LABELS = [label for label, value in DATA]"
   ]
  },
  {
   "cell_type": "code",
   "execution_count": 19,
   "id": "266079ec",
   "metadata": {},
   "outputs": [
    {
     "data": {
      "text/plain": [
       "<BarContainer object of 4 artists>"
      ]
     },
     "execution_count": 19,
     "metadata": {},
     "output_type": "execute_result"
    },
    {
     "data": {
      "image/png": "[encoded data removed]",
      "text/plain": [
       "<Figure size 640x480 with 1 Axes>"
      ]
     },
     "metadata": {},
     "output_type": "display_data"
    }
   ],
   "source": [
    "# 4. Create a bar graph with the data \n",
    "\n",
    "plt.bar(POS, VALUES)"
   ]
  }
 ],
 "metadata": {
  "kernelspec": {
   "display_name": "Python 3 (ipykernel)",
   "language": "python",
   "name": "python3"
  },
  "language_info": {
   "codemirror_mode": {
    "name": "ipython",
    "version": 3
   },
   "file_extension": ".py",
   "mimetype": "text/x-python",
   "name": "python",
   "nbconvert_exporter": "python",
   "pygments_lexer": "ipython3",
   "version": "3.11.5"
  }
 },
 "nbformat": 4,
 "nbformat_minor": 5
}

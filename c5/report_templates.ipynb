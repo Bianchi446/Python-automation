{
 "cells": [
  {
   "cell_type": "code",
   "execution_count": 1,
   "id": "ee07fcdd",
   "metadata": {},
   "outputs": [
    {
     "name": "stdout",
     "output_type": "stream",
     "text": [
      "Requirement already satisfied: jinja2 in /home/jose/anaconda3/lib/python3.11/site-packages (2.11.1)\n",
      "Requirement already satisfied: MarkupSafe>=0.23 in /home/jose/anaconda3/lib/python3.11/site-packages (from jinja2) (2.1.1)\n",
      "Note: you may need to restart the kernel to use updated packages.\n"
     ]
    }
   ],
   "source": [
    "pip install jinja2"
   ]
  },
  {
   "cell_type": "code",
   "execution_count": 7,
   "id": "4335c0cb",
   "metadata": {},
   "outputs": [],
   "source": [
    "from jinja2 import Template\n",
    "from datetime import datetime\n",
    "\n",
    "with open('jinja_template.html') as file:\n",
    "    template = Template(file.read())"
   ]
  },
  {
   "cell_type": "code",
   "execution_count": 8,
   "id": "26d64e26",
   "metadata": {},
   "outputs": [],
   "source": [
    "data = {\n",
    "    \"date\" : datetime.now(),\n",
    "    \"movies\" : [\"Oppenheimer\", \"Tenet\", \"Casablanca\"],\n",
    "    \"total minutes\" : 360,\n",
    "}"
   ]
  },
  {
   "cell_type": "code",
   "execution_count": 9,
   "id": "80379d46",
   "metadata": {},
   "outputs": [],
   "source": [
    "with open(\"report.html\", 'w') as file:\n",
    "    file.write(template.render(data))"
   ]
  },
  {
   "cell_type": "markdown",
   "id": "d221b2d6",
   "metadata": {},
   "source": [
    "#### More : Jinja2 allows you to create complex templates in HTML, LaTex and JavaScript"
   ]
  },
  {
   "cell_type": "code",
   "execution_count": null,
   "id": "9f17f03b",
   "metadata": {},
   "outputs": [],
   "source": []
  }
 ],
 "metadata": {
  "kernelspec": {
   "display_name": "Python 3 (ipykernel)",
   "language": "python",
   "name": "python3"
  },
  "language_info": {
   "codemirror_mode": {
    "name": "ipython",
    "version": 3
   },
   "file_extension": ".py",
   "mimetype": "text/x-python",
   "name": "python",
   "nbconvert_exporter": "python",
   "pygments_lexer": "ipython3",
   "version": "3.11.5"
  }
 },
 "nbformat": 4,
 "nbformat_minor": 5
}

{
 "cells": [
  {
   "cell_type": "code",
   "execution_count": 2,
   "id": "040e5903",
   "metadata": {},
   "outputs": [],
   "source": [
    "# Brief report in text format about the number of watched movies and total time spend watching "
   ]
  },
  {
   "cell_type": "code",
   "execution_count": 3,
   "id": "52541e8c",
   "metadata": {},
   "outputs": [],
   "source": [
    "# Import datetime\n",
    "from datetime import datetime"
   ]
  },
  {
   "cell_type": "code",
   "execution_count": 4,
   "id": "5d47afcc",
   "metadata": {},
   "outputs": [],
   "source": [
    "# 2. Create the template with the report in text format\n",
    "\n",
    "TEMPLATE = '''\n",
    "\n",
    "Date = {date}\n",
    "Movies seen in the last 30 days : {num_movies}\n",
    "Total minutes = {total_minutes}\n",
    "\n",
    "'''"
   ]
  },
  {
   "cell_type": "code",
   "execution_count": 5,
   "id": "38dc3667",
   "metadata": {},
   "outputs": [],
   "source": [
    "# 3. Create the dictionary with the values to store \n",
    "\n",
    "data = {\n",
    "    'date' : datetime.utcnow(),\n",
    "    'num_movies' : 3,\n",
    "    'total_minutes' : 523\n",
    "}"
   ]
  },
  {
   "cell_type": "code",
   "execution_count": 6,
   "id": "53cb34d1",
   "metadata": {},
   "outputs": [],
   "source": [
    "# 4. Compose the text of the report \n",
    "\n",
    "report = TEMPLATE.format(**data)"
   ]
  },
  {
   "cell_type": "code",
   "execution_count": 7,
   "id": "f462d174",
   "metadata": {},
   "outputs": [],
   "source": [
    "# 5. Create a new file with the current date and store the report \n",
    "\n",
    "FILENAME_TMPL = \"{date}_report.txt\"\n",
    "\n",
    "filename = FILENAME_TMPL.format(date=data['date'].strftime('%Y-%m-%d'))"
   ]
  },
  {
   "cell_type": "code",
   "execution_count": 8,
   "id": "378f9e83",
   "metadata": {},
   "outputs": [
    {
     "data": {
      "text/plain": [
       "'2024-01-31_report.txt'"
      ]
     },
     "execution_count": 8,
     "metadata": {},
     "output_type": "execute_result"
    }
   ],
   "source": [
    "filename"
   ]
  },
  {
   "cell_type": "code",
   "execution_count": 9,
   "id": "cd0eaee1",
   "metadata": {},
   "outputs": [],
   "source": [
    "# Store the report \n",
    "\n",
    "with open(filename, 'w') as file:\n",
    "    file.write(report)"
   ]
  },
  {
   "cell_type": "code",
   "execution_count": 10,
   "id": "0d8e55d1",
   "metadata": {},
   "outputs": [
    {
     "name": "stdout",
     "output_type": "stream",
     "text": [
      "\r\n",
      "\r\n",
      "Date = 2024-01-31 10:33:46.542541\r\n",
      "Movies seen in the last 30 days : 3\r\n",
      "Total minutes = 523\r\n",
      "\r\n"
     ]
    }
   ],
   "source": [
    "cat 2024-01-31_report.txt"
   ]
  },
  {
   "cell_type": "code",
   "execution_count": null,
   "id": "4d79a404",
   "metadata": {},
   "outputs": [],
   "source": []
  }
 ],
 "metadata": {
  "kernelspec": {
   "display_name": "Python 3 (ipykernel)",
   "language": "python",
   "name": "python3"
  },
  "language_info": {
   "codemirror_mode": {
    "name": "ipython",
    "version": 3
   },
   "file_extension": ".py",
   "mimetype": "text/x-python",
   "name": "python",
   "nbconvert_exporter": "python",
   "pygments_lexer": "ipython3",
   "version": "3.11.5"
  }
 },
 "nbformat": 4,
 "nbformat_minor": 5
}

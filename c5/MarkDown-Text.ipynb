{
 "cells": [
  {
   "cell_type": "markdown",
   "id": "cc21f4ad",
   "metadata": {},
   "source": [
    "#### Problem : Formating text in markdown \n",
    "\n",
    "Markdown is a very popular markup language used to create plain text that can be\n",
    "converted into styled HTML. It is a good way of structuring documents in a way that\n",
    "they are still easy to read in plain text format, while being able to properly style them\n",
    "in HTML."
   ]
  },
  {
   "cell_type": "code",
   "execution_count": 1,
   "id": "dbe3bcdb",
   "metadata": {},
   "outputs": [
    {
     "name": "stdout",
     "output_type": "stream",
     "text": [
      "Requirement already satisfied: jinja2==2.11.1 in /home/jose/anaconda3/lib/python3.11/site-packages (from -r requirements.txt (line 1)) (2.11.1)\n",
      "Requirement already satisfied: mistune==0.8.4 in /home/jose/anaconda3/lib/python3.11/site-packages (from -r requirements.txt (line 3)) (0.8.4)\n",
      "Requirement already satisfied: MarkupSafe>=0.23 in /home/jose/anaconda3/lib/python3.11/site-packages (from jinja2==2.11.1->-r requirements.txt (line 1)) (2.1.1)\n",
      "Note: you may need to restart the kernel to use updated packages.\n"
     ]
    }
   ],
   "source": [
    "pip install -r requirements.txt"
   ]
  },
  {
   "cell_type": "code",
   "execution_count": 4,
   "id": "aa427cf4",
   "metadata": {},
   "outputs": [],
   "source": [
    "import mistune \n",
    "from datetime import datetime\n",
    "\n",
    "with open('markdown_template.md') as file:\n",
    "    template = file.read()"
   ]
  },
  {
   "cell_type": "code",
   "execution_count": 10,
   "id": "cabf63ab",
   "metadata": {},
   "outputs": [],
   "source": [
    "context = {\n",
    "    \"date\" : datetime.now(),\n",
    "    \"pmovies\" : [\"Tenet\", \"Inception\", \"Blood diamond\"],\n",
    "    \"total_minutes\" : 380,\n",
    "}"
   ]
  },
  {
   "cell_type": "code",
   "execution_count": 12,
   "id": "8409d039",
   "metadata": {},
   "outputs": [],
   "source": [
    "# Transform the data list into suitable Markdown bullet list \n",
    "\n",
    "context[\"num_movies\"] = len(context['pmovies'])\n",
    "\n",
    "context['movies'] = '\\n'.join('* {}'.format(movie) for movie in context['pmovies'])\n"
   ]
  },
  {
   "cell_type": "code",
   "execution_count": 15,
   "id": "0be4a81b",
   "metadata": {},
   "outputs": [],
   "source": [
    "# Render the template and compile the resulting markdown into HTML \n",
    "\n",
    "md_report = template.format(**context)\n",
    "\n",
    "report = mistune.markdown(md_report)"
   ]
  },
  {
   "cell_type": "code",
   "execution_count": 16,
   "id": "436d1215",
   "metadata": {},
   "outputs": [],
   "source": [
    "# Store the resulting report into report.html\n",
    "\n",
    "with open('report.html', 'w') as file:\n",
    "    file.write(report)"
   ]
  },
  {
   "cell_type": "code",
   "execution_count": null,
   "id": "64a9ca8a",
   "metadata": {},
   "outputs": [],
   "source": []
  }
 ],
 "metadata": {
  "kernelspec": {
   "display_name": "Python 3 (ipykernel)",
   "language": "python",
   "name": "python3"
  },
  "language_info": {
   "codemirror_mode": {
    "name": "ipython",
    "version": 3
   },
   "file_extension": ".py",
   "mimetype": "text/x-python",
   "name": "python",
   "nbconvert_exporter": "python",
   "pygments_lexer": "ipython3",
   "version": "3.11.5"
  }
 },
 "nbformat": 4,
 "nbformat_minor": 5
}

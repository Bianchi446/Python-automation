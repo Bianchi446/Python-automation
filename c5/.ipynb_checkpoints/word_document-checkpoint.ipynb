{
 "cells": [
  {
   "cell_type": "code",
   "execution_count": 7,
   "id": "d15ef0da",
   "metadata": {},
   "outputs": [],
   "source": [
    "# 1. Import modules\n",
    "import docx \n",
    "from datetime import datetime"
   ]
  },
  {
   "cell_type": "code",
   "execution_count": 8,
   "id": "b0b20551",
   "metadata": {},
   "outputs": [],
   "source": [
    "# 2. Create context\n",
    "\n",
    "context = {\n",
    "    \"date\" : datetime.now(),\n",
    "    \"movies\" : [\"Tenet\" , \"Oppenheimer\", \"Blood Diamond\"],\n",
    "    \"Total_minutes\" : 404,\n",
    "}"
   ]
  },
  {
   "cell_type": "code",
   "execution_count": 10,
   "id": "025a205c",
   "metadata": {},
   "outputs": [
    {
     "data": {
      "text/plain": [
       "<docx.text.paragraph.Paragraph at 0x7f9000f64650>"
      ]
     },
     "execution_count": 10,
     "metadata": {},
     "output_type": "execute_result"
    }
   ],
   "source": [
    "# 3. Create a new docx document with a heading 'Movies report' \n",
    "\n",
    "document = docx.Document()\n",
    "document.add_heading('Movies Report', 0)"
   ]
  },
  {
   "cell_type": "code",
   "execution_count": 11,
   "id": "e4b47bec",
   "metadata": {},
   "outputs": [],
   "source": [
    "# 4. Add paragraph describing the date in italic \n",
    "\n",
    "paragraph = document.add_paragraph('Date: ')\n",
    "paragraph.add_run(str(context['date'])).italic = True"
   ]
  },
  {
   "cell_type": "code",
   "execution_count": 13,
   "id": "5df489cf",
   "metadata": {},
   "outputs": [],
   "source": [
    "# 5. Add information about the number of movies seen \n",
    "\n",
    "paragraph = document.add_paragraph('Movies seen in the last 30 days: ')\n",
    "paragraph.add_run(str(len(context['movies']))).italic = True"
   ]
  },
  {
   "cell_type": "code",
   "execution_count": 14,
   "id": "0d26884b",
   "metadata": {},
   "outputs": [],
   "source": [
    "# 6. Add each of the movies as a bullet point \n",
    "\n",
    "for movie in context['movies']:\n",
    "    document.add_paragraph(movie, style=\"List Bullet\")"
   ]
  },
  {
   "cell_type": "code",
   "execution_count": 18,
   "id": "65d5e0e8",
   "metadata": {},
   "outputs": [],
   "source": [
    "# 7. Add the total minutes and save the file \n",
    "\n",
    "paragraph = document.add_paragraph('Total_minutes : ')\n",
    "paragraph.add_run(str(context['Total_minutes'])).italic = True\n",
    "document.save('Word-report.docx')\n",
    "\n",
    "### ERR! NOT UTF-8 ENCODED"
   ]
  },
  {
   "cell_type": "code",
   "execution_count": null,
   "id": "f9885b29",
   "metadata": {},
   "outputs": [],
   "source": []
  }
 ],
 "metadata": {
  "kernelspec": {
   "display_name": "Python 3 (ipykernel)",
   "language": "python",
   "name": "python3"
  },
  "language_info": {
   "codemirror_mode": {
    "name": "ipython",
    "version": 3
   },
   "file_extension": ".py",
   "mimetype": "text/x-python",
   "name": "python",
   "nbconvert_exporter": "python",
   "pygments_lexer": "ipython3",
   "version": "3.11.5"
  }
 },
 "nbformat": 4,
 "nbformat_minor": 5
}

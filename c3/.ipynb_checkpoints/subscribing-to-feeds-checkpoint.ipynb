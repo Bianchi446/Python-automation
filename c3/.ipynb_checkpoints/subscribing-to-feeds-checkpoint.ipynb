{
 "cells": [
  {
   "cell_type": "code",
   "execution_count": 9,
   "id": "662c0f1d",
   "metadata": {},
   "outputs": [],
   "source": [
    "import feedparser\n",
    "\n",
    "import datetime\n",
    "\n",
    "import delorean\n",
    "\n",
    "import requests\n",
    "\n"
   ]
  },
  {
   "cell_type": "code",
   "execution_count": 14,
   "id": "9691f85f",
   "metadata": {},
   "outputs": [
    {
     "data": {
      "text/plain": [
       "'Sat, 27 Jan 2024 17:15:50 +0000'"
      ]
     },
     "execution_count": 14,
     "metadata": {},
     "output_type": "execute_result"
    }
   ],
   "source": [
    "rss = feedparser.parse('https://rss.nytimes.com/services/xml/rss/nyt/HomePage.xml')\n",
    "\n",
    "rss.channel.updated"
   ]
  },
  {
   "cell_type": "code",
   "execution_count": 32,
   "id": "0006cc43",
   "metadata": {},
   "outputs": [],
   "source": [
    "# Problem : With delorian ,get the rss entries that are less or equal to 6 hours \n",
    "\n",
    "time_limit = delorean.parse(rss.channel.updated) - datetime.timedelta(hours=6)"
   ]
  },
  {
   "cell_type": "code",
   "execution_count": 33,
   "id": "eb2739c4",
   "metadata": {},
   "outputs": [],
   "source": [
    "entries = [entry for entry in rss.entries if delorean. parse(entry.published) > time_limit]"
   ]
  },
  {
   "cell_type": "code",
   "execution_count": 34,
   "id": "e329de47",
   "metadata": {},
   "outputs": [
    {
     "data": {
      "text/plain": [
       "4"
      ]
     },
     "execution_count": 34,
     "metadata": {},
     "output_type": "execute_result"
    }
   ],
   "source": [
    "len(entries)"
   ]
  },
  {
   "cell_type": "code",
   "execution_count": 35,
   "id": "ca44bdb2",
   "metadata": {},
   "outputs": [
    {
     "data": {
      "text/plain": [
       "27"
      ]
     },
     "execution_count": 35,
     "metadata": {},
     "output_type": "execute_result"
    }
   ],
   "source": [
    "len(rss.entries)"
   ]
  },
  {
   "cell_type": "code",
   "execution_count": null,
   "id": "4cb1f81d",
   "metadata": {},
   "outputs": [],
   "source": []
  }
 ],
 "metadata": {
  "kernelspec": {
   "display_name": "Python 3 (ipykernel)",
   "language": "python",
   "name": "python3"
  },
  "language_info": {
   "codemirror_mode": {
    "name": "ipython",
    "version": 3
   },
   "file_extension": ".py",
   "mimetype": "text/x-python",
   "name": "python",
   "nbconvert_exporter": "python",
   "pygments_lexer": "ipython3",
   "version": "3.11.5"
  }
 },
 "nbformat": 4,
 "nbformat_minor": 5
}

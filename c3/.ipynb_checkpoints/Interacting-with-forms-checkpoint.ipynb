{
 "cells": [
  {
   "cell_type": "code",
   "execution_count": 1,
   "id": "568c769f",
   "metadata": {},
   "outputs": [],
   "source": [
    "# Presentation of forms where we can inputa values and send them with a single action"
   ]
  },
  {
   "cell_type": "code",
   "execution_count": 18,
   "id": "47117366",
   "metadata": {},
   "outputs": [],
   "source": [
    "import requests \n",
    "from bs4 import BeautifulSoup\n",
    "import re"
   ]
  },
  {
   "cell_type": "code",
   "execution_count": 19,
   "id": "11494982",
   "metadata": {},
   "outputs": [
    {
     "data": {
      "text/plain": [
       "{'comments', 'custemail', 'custname', 'custtel', 'delivery', 'size', 'topping'}"
      ]
     },
     "execution_count": 19,
     "metadata": {},
     "output_type": "execute_result"
    }
   ],
   "source": [
    "# 1 -- Retrieve the form page, parsed it and print the input values \n",
    "\n",
    "response = requests.get('https://httpbin.org/forms/post')\n",
    "\n",
    "page = BeautifulSoup(response.text)\n",
    "\n",
    "form = page.find('form')\n",
    "\n",
    "{field.get('name') for field in form.find_all(re.compile('input|textarea'))}"
   ]
  },
  {
   "cell_type": "code",
   "execution_count": 20,
   "id": "271b9d91",
   "metadata": {},
   "outputs": [
    {
     "data": {
      "text/plain": [
       "<Response [200]>"
      ]
     },
     "execution_count": 20,
     "metadata": {},
     "output_type": "execute_result"
    }
   ],
   "source": [
    "response"
   ]
  },
  {
   "cell_type": "code",
   "execution_count": 21,
   "id": "7c52c372",
   "metadata": {},
   "outputs": [],
   "source": [
    "data = {'custname': \"Sean O'Connell\", 'custtel': '123-456- 789', 'custemail': 'sean@oconnell.ie', 'size': 'small', 'topping':\n",
    "['bacon', 'onion'], 'delivery': '20:30', 'comments': ''}"
   ]
  },
  {
   "cell_type": "code",
   "execution_count": 27,
   "id": "2bb09241",
   "metadata": {},
   "outputs": [],
   "source": [
    "response = requests.post('https://httpbin.org/forms', data)"
   ]
  },
  {
   "cell_type": "code",
   "execution_count": 28,
   "id": "89fc2b17",
   "metadata": {},
   "outputs": [
    {
     "data": {
      "text/plain": [
       "<Response [404]>"
      ]
     },
     "execution_count": 28,
     "metadata": {},
     "output_type": "execute_result"
    }
   ],
   "source": [
    "response"
   ]
  },
  {
   "cell_type": "code",
   "execution_count": null,
   "id": "5862a477",
   "metadata": {},
   "outputs": [],
   "source": []
  }
 ],
 "metadata": {
  "kernelspec": {
   "display_name": "Python 3 (ipykernel)",
   "language": "python",
   "name": "python3"
  },
  "language_info": {
   "codemirror_mode": {
    "name": "ipython",
    "version": 3
   },
   "file_extension": ".py",
   "mimetype": "text/x-python",
   "name": "python",
   "nbconvert_exporter": "python",
   "pygments_lexer": "ipython3",
   "version": "3.11.5"
  }
 },
 "nbformat": 4,
 "nbformat_minor": 5
}

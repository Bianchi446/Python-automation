{
 "cells": [
  {
   "cell_type": "code",
   "execution_count": 1,
   "id": "662c0f1d",
   "metadata": {},
   "outputs": [],
   "source": [
    "import feedparser\n",
    "\n",
    "import datetime\n",
    "\n",
    "import delorean\n",
    "\n",
    "import requests\n",
    "\n"
   ]
  },
  {
   "cell_type": "code",
   "execution_count": 2,
   "id": "fa577238",
   "metadata": {},
   "outputs": [
    {
     "data": {
      "text/plain": [
       "'Mon, 29 Jan 2024 16:19:25 +0000'"
      ]
     },
     "execution_count": 2,
     "metadata": {},
     "output_type": "execute_result"
    }
   ],
   "source": [
    "rss = feedparser.parse('https://rss.nytimes.com/services/xml/rss/nyt/HomePage.xml')\n",
    "\n",
    "rss.channel.updated"
   ]
  },
  {
   "cell_type": "code",
   "execution_count": 3,
   "id": "2113835c",
   "metadata": {},
   "outputs": [],
   "source": [
    "# Problem : With delorian ,get the rss entries that are less or equal to 6 hours \n",
    "\n",
    "time_limit = delorean.parse(rss.channel.updated) - datetime.timedelta(hours=6)"
   ]
  },
  {
   "cell_type": "code",
   "execution_count": 4,
   "id": "aa6f50d6",
   "metadata": {},
   "outputs": [],
   "source": [
    "entries = [entry for entry in rss.entries if delorean. parse(entry.published) > time_limit]"
   ]
  },
  {
   "cell_type": "code",
   "execution_count": 5,
   "id": "ed5d481a",
   "metadata": {},
   "outputs": [
    {
     "data": {
      "text/plain": [
       "18"
      ]
     },
     "execution_count": 5,
     "metadata": {},
     "output_type": "execute_result"
    }
   ],
   "source": [
    "len(entries)"
   ]
  },
  {
   "cell_type": "code",
   "execution_count": 6,
   "id": "4df55579",
   "metadata": {},
   "outputs": [
    {
     "data": {
      "text/plain": [
       "27"
      ]
     },
     "execution_count": 6,
     "metadata": {},
     "output_type": "execute_result"
    }
   ],
   "source": [
    "len(rss.entries)"
   ]
  },
  {
   "cell_type": "code",
   "execution_count": 7,
   "id": "15eadbf6",
   "metadata": {},
   "outputs": [
    {
     "data": {
      "text/plain": [
       "'Biden Vows to Retaliate, and a Super Bowl Rematch'"
      ]
     },
     "execution_count": 7,
     "metadata": {},
     "output_type": "execute_result"
    }
   ],
   "source": [
    "entries[1]['title']"
   ]
  },
  {
   "cell_type": "code",
   "execution_count": 8,
   "id": "ce2debe9",
   "metadata": {},
   "outputs": [
    {
     "data": {
      "text/plain": [
       "'NYT > Top Stories'"
      ]
     },
     "execution_count": 8,
     "metadata": {},
     "output_type": "execute_result"
    }
   ],
   "source": [
    "rss.feed.title"
   ]
  },
  {
   "cell_type": "code",
   "execution_count": 9,
   "id": "0bb789b6",
   "metadata": {},
   "outputs": [
    {
     "data": {
      "text/plain": [
       "dict_keys(['title', 'title_detail', 'links', 'link', 'id', 'guidislink', 'summary', 'summary_detail', 'authors', 'author', 'author_detail', 'published', 'published_parsed', 'tags', 'media_content', 'media_credit', 'credit', 'content'])"
      ]
     },
     "execution_count": 9,
     "metadata": {},
     "output_type": "execute_result"
    }
   ],
   "source": [
    "entries[1].keys()"
   ]
  },
  {
   "cell_type": "code",
   "execution_count": null,
   "id": "2a151cfa",
   "metadata": {},
   "outputs": [],
   "source": []
  }
 ],
 "metadata": {
  "kernelspec": {
   "display_name": "Python 3 (ipykernel)",
   "language": "python",
   "name": "python3"
  },
  "language_info": {
   "codemirror_mode": {
    "name": "ipython",
    "version": 3
   },
   "file_extension": ".py",
   "mimetype": "text/x-python",
   "name": "python",
   "nbconvert_exporter": "python",
   "pygments_lexer": "ipython3",
   "version": "3.11.5"
  }
 },
 "nbformat": 4,
 "nbformat_minor": 5
}

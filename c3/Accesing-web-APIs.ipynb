{
 "cells": [
  {
   "cell_type": "code",
   "execution_count": 27,
   "id": "477f2d57",
   "metadata": {},
   "outputs": [],
   "source": [
    "import requests\n",
    "import json"
   ]
  },
  {
   "cell_type": "code",
   "execution_count": 28,
   "id": "36d9e9ef",
   "metadata": {},
   "outputs": [],
   "source": [
    "result = requests.get('https://jsonplaceholder.typicode.com/')"
   ]
  },
  {
   "cell_type": "code",
   "execution_count": 29,
   "id": "3c9e7d91",
   "metadata": {},
   "outputs": [
    {
     "data": {
      "text/plain": [
       "<Response [200]>"
      ]
     },
     "execution_count": 29,
     "metadata": {},
     "output_type": "execute_result"
    }
   ],
   "source": [
    "result"
   ]
  },
  {
   "cell_type": "code",
   "execution_count": 30,
   "id": "c7ee40cc",
   "metadata": {},
   "outputs": [],
   "source": [
    "# Create a new Post \n",
    "\n",
    "new_post = {'userId' : 10, 'title' : 'A title', 'body' : 'something'}"
   ]
  },
  {
   "cell_type": "code",
   "execution_count": 31,
   "id": "92f6d183",
   "metadata": {},
   "outputs": [],
   "source": [
    "result = requests.get('https://jsonplaceholder.typicode.com/', json=new_post)"
   ]
  },
  {
   "cell_type": "code",
   "execution_count": 33,
   "id": "2787d617",
   "metadata": {},
   "outputs": [
    {
     "ename": "KeyError",
     "evalue": "'location'",
     "output_type": "error",
     "traceback": [
      "\u001b[0;31m---------------------------------------------------------------------------\u001b[0m",
      "\u001b[0;31mKeyError\u001b[0m                                  Traceback (most recent call last)",
      "Cell \u001b[0;32mIn[33], line 1\u001b[0m\n\u001b[0;32m----> 1\u001b[0m result\u001b[38;5;241m.\u001b[39mheaders[\u001b[38;5;124m'\u001b[39m\u001b[38;5;124mLocation\u001b[39m\u001b[38;5;124m'\u001b[39m]\n",
      "File \u001b[0;32m~/anaconda3/lib/python3.11/site-packages/requests/structures.py:54\u001b[0m, in \u001b[0;36mCaseInsensitiveDict.__getitem__\u001b[0;34m(self, key)\u001b[0m\n\u001b[1;32m     53\u001b[0m \u001b[38;5;28;01mdef\u001b[39;00m \u001b[38;5;21m__getitem__\u001b[39m(\u001b[38;5;28mself\u001b[39m, key):\n\u001b[0;32m---> 54\u001b[0m     \u001b[38;5;28;01mreturn\u001b[39;00m \u001b[38;5;28mself\u001b[39m\u001b[38;5;241m.\u001b[39m_store[key\u001b[38;5;241m.\u001b[39mlower()][\u001b[38;5;241m1\u001b[39m]\n",
      "\u001b[0;31mKeyError\u001b[0m: 'location'"
     ]
    }
   ],
   "source": [
    "result.headers['Location']"
   ]
  },
  {
   "cell_type": "code",
   "execution_count": null,
   "id": "e05da7ea",
   "metadata": {},
   "outputs": [],
   "source": []
  }
 ],
 "metadata": {
  "kernelspec": {
   "display_name": "Python 3 (ipykernel)",
   "language": "python",
   "name": "python3"
  },
  "language_info": {
   "codemirror_mode": {
    "name": "ipython",
    "version": 3
   },
   "file_extension": ".py",
   "mimetype": "text/x-python",
   "name": "python",
   "nbconvert_exporter": "python",
   "pygments_lexer": "ipython3",
   "version": "3.11.5"
  }
 },
 "nbformat": 4,
 "nbformat_minor": 5
}
